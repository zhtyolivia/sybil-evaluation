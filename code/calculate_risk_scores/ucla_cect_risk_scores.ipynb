{
 "cells": [
  {
   "cell_type": "code",
   "execution_count": 2,
   "id": "1239da53",
   "metadata": {},
   "outputs": [],
   "source": [
    "import numpy as np\n",
    "import pandas as pd\n",
    "from sklearn.metrics import roc_auc_score, roc_curve, confusion_matrix\n",
    "from sklearn.utils import resample\n",
    "import matplotlib.pyplot as plt\n",
    "import seaborn as sns\n",
    "import sys\n",
    "import os\n",
    "import torch \n",
    "from argparse import Namespace\n",
    "from tqdm import tqdm\n",
    "import pickle \n",
    "import glob \n",
    "import ast\n",
    "\n",
    "# Add the path to the directory containing the sybil module\n",
    "sys.path.append('/workspace/home/tengyuezhang/sybil_cect/code/Sybil/')\n",
    "from sybil.utils.metrics import concordance_index, get_survival_metrics\n",
    "from sybil import Sybil, Serie\n",
    "from sybil import visualize_attentions_v2\n"
   ]
  },
  {
   "cell_type": "code",
   "execution_count": 3,
   "id": "73c440e1",
   "metadata": {},
   "outputs": [],
   "source": [
    "os.environ[\"CUDA_VISIBLE_DEVICES\"] = \"1\"\n",
    "num_threads = os.cpu_count() // 5"
   ]
  },
  {
   "cell_type": "code",
   "execution_count": 4,
   "id": "c0e00783",
   "metadata": {},
   "outputs": [],
   "source": [
    "IN_CASES_PATH = '/workspace/home/tengyuezhang/sybil_cect/data/ucla_cect/ucla_cect_98_baseline_timepoint.csv'\n",
    "OUT_RISK_PATH = '/workspace/home/tengyuezhang/sybil_cect/results/ucla_cect/ucla_cect_98_risk_scores.csv'\n",
    "# attention maps \n",
    "OUT_VIS_DIR_PATH = '/workspace/home/tengyuezhang/sybil_cect/visualizations/ucla_cect_attention_maps'\n",
    "SAVE_ATTN_MAPS = True \n",
    "if SAVE_ATTN_MAPS and not os.path.exists(OUT_VIS_DIR_PATH):\n",
    "    os.makedirs(OUT_VIS_DIR_PATH)"
   ]
  },
  {
   "cell_type": "code",
   "execution_count": 5,
   "id": "4b4304cc",
   "metadata": {},
   "outputs": [
    {
     "name": "stderr",
     "output_type": "stream",
     "text": [
      "/home/tengyuezhang/.local/lib/python3.10/site-packages/torchvision/models/_utils.py:208: UserWarning: The parameter 'pretrained' is deprecated since 0.13 and may be removed in the future, please use 'weights' instead.\n",
      "  warnings.warn(\n",
      "/home/tengyuezhang/.local/lib/python3.10/site-packages/torchvision/models/_utils.py:223: UserWarning: Arguments other than a weight enum or `None` for 'weights' are deprecated since 0.13 and may be removed in the future. The current behavior is equivalent to passing `weights=R3D_18_Weights.KINETICS400_V1`. You can also use `weights=R3D_18_Weights.DEFAULT` to get the most up-to-date weights.\n",
      "  warnings.warn(msg)\n"
     ]
    }
   ],
   "source": [
    "# Initialize the Sybil model\n",
    "model = Sybil(\"sybil_ensemble\")\n",
    "num_years = 6"
   ]
  },
  {
   "cell_type": "code",
   "execution_count": 6,
   "id": "c5308c91",
   "metadata": {},
   "outputs": [],
   "source": [
    "# Load the CSV file\n",
    "all_cases = pd.read_csv(IN_CASES_PATH)\n",
    "df = all_cases"
   ]
  },
  {
   "cell_type": "code",
   "execution_count": 7,
   "id": "ae70dcb7",
   "metadata": {},
   "outputs": [
    {
     "name": "stderr",
     "output_type": "stream",
     "text": [
      "Processing cases: 100%|███████████████████████████████████████████████████████████████████████████████████████████████████████████| 98/98 [08:32<00:00,  5.23s/it]\n"
     ]
    }
   ],
   "source": [
    "for i in range(num_years):\n",
    "    df[f'pred_risk_year_{i}'] = np.nan\n",
    "\n",
    "for index, row in tqdm(df.iterrows(), total=len(df), desc=\"Processing cases\"):\n",
    "   \n",
    "    dicom_dir = row['Directory']\n",
    "    # event = row['LungCancer']\n",
    "    event = 0\n",
    "    years_to_event = 1\n",
    "    pid = row['pid']\n",
    "    dicom_list = glob.glob(dicom_dir + '/*')\n",
    "    serie = Serie(dicom_list, label=event, censor_time=years_to_event)\n",
    "    \n",
    "    results = model.predict([serie], return_attentions=True, threads=num_threads)\n",
    "        \n",
    "    # Update the risk scores columns for the current row\n",
    "    for i in range(num_years):\n",
    "        df.at[index, f'pred_risk_year_{i}'] = results.scores[0][i]\n",
    "        \n",
    "    # Save the updated DataFrame to the output CSV file at each iteration\n",
    "    df.to_csv(OUT_RISK_PATH, index=False)\n",
    "    \n",
    "    # Save attention maps \n",
    "    if SAVE_ATTN_MAPS: \n",
    "        attentions = results.attentions\n",
    "\n",
    "        series_with_attention = visualize_attentions_v2(\n",
    "            serie,\n",
    "            attentions = attentions,\n",
    "            pid = pid, \n",
    "            save_directory = os.path.join(OUT_VIS_DIR_PATH, str(pid)),\n",
    "            gain = 1, \n",
    "            save_pngs = True, \n",
    "            save_rep_slice = True,\n",
    "        )"
   ]
  },
  {
   "cell_type": "code",
   "execution_count": null,
   "id": "03224871",
   "metadata": {},
   "outputs": [],
   "source": []
  },
  {
   "cell_type": "code",
   "execution_count": null,
   "id": "f1808298",
   "metadata": {},
   "outputs": [],
   "source": []
  }
 ],
 "metadata": {
  "kernelspec": {
   "display_name": "Python 3 (ipykernel)",
   "language": "python",
   "name": "python3"
  },
  "language_info": {
   "codemirror_mode": {
    "name": "ipython",
    "version": 3
   },
   "file_extension": ".py",
   "mimetype": "text/x-python",
   "name": "python",
   "nbconvert_exporter": "python",
   "pygments_lexer": "ipython3",
   "version": "3.10.6"
  }
 },
 "nbformat": 4,
 "nbformat_minor": 5
}
