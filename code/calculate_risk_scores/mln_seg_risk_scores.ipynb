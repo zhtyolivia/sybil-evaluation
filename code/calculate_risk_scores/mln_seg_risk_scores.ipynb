{
 "cells": [
  {
   "cell_type": "code",
   "execution_count": 1,
   "id": "1239da53",
   "metadata": {},
   "outputs": [],
   "source": [
    "import numpy as np\n",
    "import pandas as pd\n",
    "from sklearn.metrics import roc_auc_score, roc_curve, confusion_matrix\n",
    "from sklearn.utils import resample\n",
    "import matplotlib.pyplot as plt\n",
    "import seaborn as sns\n",
    "import sys\n",
    "import os\n",
    "import torch \n",
    "from argparse import Namespace\n",
    "from tqdm import tqdm\n",
    "import pickle \n",
    "import glob \n",
    "import ast\n",
    "\n",
    "# Add the path to the directory containing the sybil module\n",
    "sys.path.append('/workspace/home/tengyuezhang/sybil_cect/code/Sybil/')\n",
    "from sybil.utils.metrics import concordance_index, get_survival_metrics\n",
    "from sybil import Sybil, Serie\n",
    "from sybil import visualize_attentions\n"
   ]
  },
  {
   "cell_type": "code",
   "execution_count": 2,
   "id": "73c440e1",
   "metadata": {},
   "outputs": [],
   "source": [
    "os.environ[\"CUDA_VISIBLE_DEVICES\"] = \"0\"\n",
    "num_threads = os.cpu_count() // 5"
   ]
  },
  {
   "cell_type": "code",
   "execution_count": 3,
   "id": "c0e00783",
   "metadata": {},
   "outputs": [],
   "source": [
    "mln_with_labels_path = '/workspace/home/tengyuezhang/sybil_cect/data/MLN-SEG/MLN_SEG_Sybil_cases_w_outcome.csv'\n",
    "data_root_dir = '/workspace/data/lung/MLN_SEG'\n",
    "output_path = '/workspace/home/tengyuezhang/sybil_cect/results/MLN-SEG/MLN_SEG_risk_scores.csv'\n",
    "vis_dir_path = \"/workspace/home/tengyuezhang/sybil_cect/visualizations/MLN_SEG_attention_maps\"\n",
    "save_atten_maps = True\n",
    "if not os.path.exists(vis_dir_path):\n",
    "    os.makedirs(vis_dir_path)"
   ]
  },
  {
   "cell_type": "code",
   "execution_count": 4,
   "id": "4b4304cc",
   "metadata": {},
   "outputs": [
    {
     "name": "stderr",
     "output_type": "stream",
     "text": [
      "/home/tengyuezhang/.local/lib/python3.10/site-packages/torchvision/models/_utils.py:208: UserWarning: The parameter 'pretrained' is deprecated since 0.13 and may be removed in the future, please use 'weights' instead.\n",
      "  warnings.warn(\n",
      "/home/tengyuezhang/.local/lib/python3.10/site-packages/torchvision/models/_utils.py:223: UserWarning: Arguments other than a weight enum or `None` for 'weights' are deprecated since 0.13 and may be removed in the future. The current behavior is equivalent to passing `weights=R3D_18_Weights.KINETICS400_V1`. You can also use `weights=R3D_18_Weights.DEFAULT` to get the most up-to-date weights.\n",
      "  warnings.warn(msg)\n"
     ]
    }
   ],
   "source": [
    "# Initialize the Sybil model\n",
    "model = Sybil(\"sybil_ensemble\")\n",
    "num_years = 6"
   ]
  },
  {
   "cell_type": "code",
   "execution_count": 5,
   "id": "c5308c91",
   "metadata": {},
   "outputs": [],
   "source": [
    "# Load the CSV file\n",
    "all_cases = pd.read_csv(mln_with_labels_path)\n",
    "df = all_cases"
   ]
  },
  {
   "cell_type": "code",
   "execution_count": 6,
   "id": "ae70dcb7",
   "metadata": {},
   "outputs": [
    {
     "name": "stderr",
     "output_type": "stream",
     "text": [
      "Processing cases: 100%|████████████████████████████████████████████████████████████████████████████████████████████████████████| 97/97 [33:32<00:00, 20.75s/it]\n"
     ]
    }
   ],
   "source": [
    "for i in range(num_years):\n",
    "    df[f'pred_risk_year_{i}'] = np.nan\n",
    "\n",
    "for index, row in tqdm(df.iterrows(), total=len(df), desc=\"Processing cases\"):\n",
    "    \n",
    "    dicom_dir = os.path.abspath(os.path.join(data_root_dir, row['Directory']))\n",
    "    event = row['LungCancer']\n",
    "    years_to_event = 1\n",
    "    pid = row['pid']\n",
    "    dicom_list = glob.glob(dicom_dir + '/*')\n",
    "    serie = Serie(dicom_list, label=event, censor_time=years_to_event)\n",
    "    \n",
    "    results = model.predict([serie], return_attentions=True, threads=num_threads)\n",
    "        \n",
    "    # Update the risk scores columns for the current row\n",
    "    for i in range(num_years):\n",
    "        df.at[index, f'pred_risk_year_{i}'] = results.scores[0][i]\n",
    "        \n",
    "    # Save the updated DataFrame to the output CSV file at each iteration\n",
    "    df.to_csv(output_path, index=False)\n",
    "    \n",
    "    # Save attention maps \n",
    "    if save_atten_maps: \n",
    "        attentions = results.attentions\n",
    "\n",
    "        series_with_attention = visualize_attentions(\n",
    "            serie,\n",
    "            attentions = attentions,\n",
    "            pid = pid, \n",
    "            save_directory = vis_dir_path,\n",
    "            gain = 1, \n",
    "            save_pngs = True, \n",
    "            save_rep_slice = True,\n",
    "        )"
   ]
  },
  {
   "cell_type": "markdown",
   "id": "98f04de1",
   "metadata": {},
   "source": [
    "# Attention maps"
   ]
  },
  {
   "cell_type": "code",
   "execution_count": 6,
   "id": "1a9dd0fa",
   "metadata": {},
   "outputs": [
    {
     "data": {
      "text/plain": [
       "pid                                                                        case_0018\n",
       "Directory                          ./Mediastinal-Lymph-Node-SEG/case_0018/07-26-2...\n",
       "Modality                                                                          CT\n",
       "Study Date                                                                07-26-2007\n",
       "Contrast/Bolus Agent                                      VOLUMEN & 100CC/ 2.5CC/SEC\n",
       "Body Part Examined                                                             CHEST\n",
       "Slice Thickness                                                                  2.5\n",
       "Contrast/Bolus Route                                                       Oral & IV\n",
       "Contrast/Bolus Ingredient                                                        NaN\n",
       "Requested Procedure Description                                                  NaN\n",
       "PrimaryCondition                                                  Hodgkin`s Lymphoma\n",
       "LungCancer                                                                         0\n",
       "time                                                                               0\n",
       "Name: 0, dtype: object"
      ]
     },
     "execution_count": 6,
     "metadata": {},
     "output_type": "execute_result"
    }
   ],
   "source": [
    "test_case = df.iloc[0]\n",
    "test_case"
   ]
  },
  {
   "cell_type": "code",
   "execution_count": 7,
   "id": "470ef590",
   "metadata": {},
   "outputs": [],
   "source": [
    "test_vis_dir_path = \"/workspace/home/tengyuezhang/sybil_cect/visualizations/test_MLN_SEG_attention_maps/\"\n"
   ]
  },
  {
   "cell_type": "code",
   "execution_count": 8,
   "id": "fb1c64f9",
   "metadata": {},
   "outputs": [],
   "source": [
    "\n",
    "test_data_dir = os.path.abspath(os.path.join(data_root_dir, test_case['Directory']))\n",
    "event = test_case['LungCancer']\n",
    "years_to_event = 1\n",
    "pid = test_case['pid']\n",
    "dicom_list = glob.glob(test_data_dir + '/*')\n",
    "serie = Serie(dicom_list, label=event, censor_time=years_to_event)\n",
    "results = model.predict([serie], return_attentions=True, threads=num_threads)\n",
    "\n",
    "\n",
    "attentions = results.attentions\n",
    "\n"
   ]
  },
  {
   "cell_type": "code",
   "execution_count": 9,
   "id": "a5c87265",
   "metadata": {},
   "outputs": [],
   "source": [
    "from sybil import visualize_attentions\n",
    "\n",
    "series_with_attention = visualize_attentions(\n",
    "    serie,\n",
    "    attentions = attentions,\n",
    "    pid = pid, \n",
    "    save_directory = test_vis_dir_path,\n",
    "    gain = 3, \n",
    "    save_pngs = True, # defaults to True\n",
    "    save_rep_slice = True, # defaults to True \n",
    ")"
   ]
  },
  {
   "cell_type": "code",
   "execution_count": null,
   "id": "8a38b3d2",
   "metadata": {},
   "outputs": [],
   "source": []
  }
 ],
 "metadata": {
  "kernelspec": {
   "display_name": "Python 3 (ipykernel)",
   "language": "python",
   "name": "python3"
  },
  "language_info": {
   "codemirror_mode": {
    "name": "ipython",
    "version": 3
   },
   "file_extension": ".py",
   "mimetype": "text/x-python",
   "name": "python",
   "nbconvert_exporter": "python",
   "pygments_lexer": "ipython3",
   "version": "3.10.6"
  }
 },
 "nbformat": 4,
 "nbformat_minor": 5
}
