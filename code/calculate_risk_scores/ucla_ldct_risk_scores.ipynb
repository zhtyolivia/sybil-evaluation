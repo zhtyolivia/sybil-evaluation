{
 "cells": [
  {
   "cell_type": "code",
   "execution_count": 7,
   "id": "1239da53",
   "metadata": {},
   "outputs": [],
   "source": [
    "import numpy as np\n",
    "import pandas as pd\n",
    "from sklearn.metrics import roc_auc_score, roc_curve, confusion_matrix\n",
    "from sklearn.utils import resample\n",
    "import matplotlib.pyplot as plt\n",
    "import seaborn as sns\n",
    "import sys\n",
    "import os\n",
    "import torch \n",
    "from argparse import Namespace\n",
    "from tqdm import tqdm\n",
    "import pickle \n",
    "import glob \n",
    "import ast\n",
    "\n",
    "# Add the path to the directory containing the sybil module\n",
    "sys.path.append('/workspace/home/tengyuezhang/sybil_cect/code/Sybil/')\n",
    "from sybil.utils.metrics import concordance_index, get_survival_metrics\n",
    "from sybil import Sybil, Serie\n",
    "from sybil import visualize_attentions_v2\n"
   ]
  },
  {
   "cell_type": "code",
   "execution_count": 8,
   "id": "73c440e1",
   "metadata": {},
   "outputs": [],
   "source": [
    "os.environ[\"CUDA_VISIBLE_DEVICES\"] = \"1\"\n",
    "num_threads = os.cpu_count() // 5"
   ]
  },
  {
   "cell_type": "code",
   "execution_count": 9,
   "id": "c0e00783",
   "metadata": {},
   "outputs": [],
   "source": [
    "ucla_ldct_cases_path = '/workspace/home/tengyuezhang/sybil_cect/data/ucla_ldct/ucla_ldct_20_cases_baseline_tp.csv'\n",
    "output_path = '/workspace/home/tengyuezhang/sybil_cect/results/ucla_ldct/ucla_ldct_20_risk_scores.csv'\n",
    "vis_dir_path = \"/workspace/home/tengyuezhang/sybil_cect/visualizations/ucla_ldct_20_attention_maps\"\n",
    "save_atten_maps = True\n",
    "if not os.path.exists(vis_dir_path):\n",
    "    os.makedirs(vis_dir_path)"
   ]
  },
  {
   "cell_type": "code",
   "execution_count": 10,
   "id": "4b4304cc",
   "metadata": {},
   "outputs": [
    {
     "name": "stderr",
     "output_type": "stream",
     "text": [
      "/home/tengyuezhang/.local/lib/python3.10/site-packages/torchvision/models/_utils.py:208: UserWarning: The parameter 'pretrained' is deprecated since 0.13 and may be removed in the future, please use 'weights' instead.\n",
      "  warnings.warn(\n",
      "/home/tengyuezhang/.local/lib/python3.10/site-packages/torchvision/models/_utils.py:223: UserWarning: Arguments other than a weight enum or `None` for 'weights' are deprecated since 0.13 and may be removed in the future. The current behavior is equivalent to passing `weights=R3D_18_Weights.KINETICS400_V1`. You can also use `weights=R3D_18_Weights.DEFAULT` to get the most up-to-date weights.\n",
      "  warnings.warn(msg)\n"
     ]
    }
   ],
   "source": [
    "# Initialize the Sybil model\n",
    "model = Sybil(\"sybil_ensemble\")\n",
    "num_years = 6"
   ]
  },
  {
   "cell_type": "code",
   "execution_count": 11,
   "id": "c5308c91",
   "metadata": {},
   "outputs": [],
   "source": [
    "# Load the CSV file\n",
    "all_cases = pd.read_csv(ucla_ldct_cases_path)\n",
    "df = all_cases"
   ]
  },
  {
   "cell_type": "code",
   "execution_count": 15,
   "id": "ae70dcb7",
   "metadata": {},
   "outputs": [
    {
     "name": "stderr",
     "output_type": "stream",
     "text": [
      "Processing cases: 100%|████████████████████████████████████████████████████████████████████████████████████████████████████████| 20/20 [1:12:14<00:00, 216.71s/it]\n"
     ]
    }
   ],
   "source": [
    "for i in range(num_years):\n",
    "    df[f'pred_risk_year_{i}'] = np.nan\n",
    "\n",
    "for index, row in tqdm(df.iterrows(), total=len(df), desc=\"Processing cases\"):\n",
    "   \n",
    "    dicom_dir = row['Directory']\n",
    "    # event = row['LungCancer']\n",
    "    event = 0\n",
    "    years_to_event = 1\n",
    "    pid = row['pid']\n",
    "    dicom_list = glob.glob(dicom_dir + '/*')\n",
    "    serie = Serie(dicom_list, label=event, censor_time=years_to_event)\n",
    "    \n",
    "    results = model.predict([serie], return_attentions=True, threads=num_threads)\n",
    "        \n",
    "    # Update the risk scores columns for the current row\n",
    "    for i in range(num_years):\n",
    "        df.at[index, f'pred_risk_year_{i}'] = results.scores[0][i]\n",
    "        \n",
    "    # Save the updated DataFrame to the output CSV file at each iteration\n",
    "    df.to_csv(output_path, index=False)\n",
    "    \n",
    "    # Save attention maps \n",
    "    if save_atten_maps: \n",
    "        attentions = results.attentions\n",
    "\n",
    "        series_with_attention = visualize_attentions_v2(\n",
    "            serie,\n",
    "            attentions = attentions,\n",
    "            pid = pid, \n",
    "            save_directory = os.path.join(vis_dir_path, str(pid)),\n",
    "            gain = 1, \n",
    "            save_pngs = True, \n",
    "            save_rep_slice = True,\n",
    "            save_bbox = False, \n",
    "            centers = None, \n",
    "            nodule_slices = [], \n",
    "            nodule_labels = [],\n",
    "        )"
   ]
  },
  {
   "cell_type": "code",
   "execution_count": null,
   "id": "1a9dd0fa",
   "metadata": {},
   "outputs": [],
   "source": []
  },
  {
   "cell_type": "code",
   "execution_count": 7,
   "id": "470ef590",
   "metadata": {},
   "outputs": [],
   "source": []
  },
  {
   "cell_type": "code",
   "execution_count": 8,
   "id": "fb1c64f9",
   "metadata": {},
   "outputs": [],
   "source": []
  },
  {
   "cell_type": "code",
   "execution_count": 9,
   "id": "a5c87265",
   "metadata": {},
   "outputs": [],
   "source": []
  },
  {
   "cell_type": "code",
   "execution_count": null,
   "id": "8a38b3d2",
   "metadata": {},
   "outputs": [],
   "source": []
  }
 ],
 "metadata": {
  "kernelspec": {
   "display_name": "Python 3 (ipykernel)",
   "language": "python",
   "name": "python3"
  },
  "language_info": {
   "codemirror_mode": {
    "name": "ipython",
    "version": 3
   },
   "file_extension": ".py",
   "mimetype": "text/x-python",
   "name": "python",
   "nbconvert_exporter": "python",
   "pygments_lexer": "ipython3",
   "version": "3.10.6"
  }
 },
 "nbformat": 4,
 "nbformat_minor": 5
}
