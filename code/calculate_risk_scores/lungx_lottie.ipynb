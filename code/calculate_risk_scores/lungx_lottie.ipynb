{
 "cells": [
  {
   "cell_type": "code",
   "execution_count": 1,
   "id": "45eb8324",
   "metadata": {},
   "outputs": [],
   "source": [
    "import numpy as np\n",
    "import pandas as pd\n",
    "from sklearn.metrics import roc_auc_score, roc_curve, confusion_matrix\n",
    "from sklearn.utils import resample\n",
    "import matplotlib.pyplot as plt\n",
    "import seaborn as sns\n",
    "import sys\n",
    "import os\n",
    "import torch \n",
    "from argparse import Namespace\n",
    "from tqdm import tqdm\n",
    "import pickle \n",
    "import glob \n",
    "import ast\n",
    "\n",
    "# Add the path to the directory containing the sybil module\n",
    "sys.path.append('/workspace/home/tengyuezhang/sybil_cect/code/Sybil/')\n",
    "from sybil.utils.metrics import concordance_index, get_survival_metrics\n",
    "from sybil import Sybil, Serie"
   ]
  },
  {
   "cell_type": "code",
   "execution_count": 2,
   "id": "492ea3f8",
   "metadata": {},
   "outputs": [],
   "source": [
    "os.environ[\"CUDA_VISIBLE_DEVICES\"] = \"0\"\n",
    "num_threads = os.cpu_count() // 5"
   ]
  },
  {
   "cell_type": "code",
   "execution_count": 3,
   "id": "2a8f6a6e",
   "metadata": {},
   "outputs": [
    {
     "name": "stderr",
     "output_type": "stream",
     "text": [
      "/home/tengyuezhang/.local/lib/python3.10/site-packages/torchvision/models/_utils.py:208: UserWarning: The parameter 'pretrained' is deprecated since 0.13 and may be removed in the future, please use 'weights' instead.\n",
      "  warnings.warn(\n",
      "/home/tengyuezhang/.local/lib/python3.10/site-packages/torchvision/models/_utils.py:223: UserWarning: Arguments other than a weight enum or `None` for 'weights' are deprecated since 0.13 and may be removed in the future. The current behavior is equivalent to passing `weights=R3D_18_Weights.KINETICS400_V1`. You can also use `weights=R3D_18_Weights.DEFAULT` to get the most up-to-date weights.\n",
      "  warnings.warn(msg)\n"
     ]
    }
   ],
   "source": [
    "# Initialize the Sybil model\n",
    "model = Sybil(\"sybil_ensemble\")\n",
    "num_years = 6"
   ]
  },
  {
   "cell_type": "code",
   "execution_count": 40,
   "id": "707ee6d0",
   "metadata": {},
   "outputs": [
    {
     "data": {
      "text/html": [
       "<div>\n",
       "<style scoped>\n",
       "    .dataframe tbody tr th:only-of-type {\n",
       "        vertical-align: middle;\n",
       "    }\n",
       "\n",
       "    .dataframe tbody tr th {\n",
       "        vertical-align: top;\n",
       "    }\n",
       "\n",
       "    .dataframe thead th {\n",
       "        text-align: right;\n",
       "    }\n",
       "</style>\n",
       "<table border=\"1\" class=\"dataframe\">\n",
       "  <thead>\n",
       "    <tr style=\"text-align: right;\">\n",
       "      <th></th>\n",
       "      <th>directory</th>\n",
       "      <th>pid</th>\n",
       "      <th>event</th>\n",
       "    </tr>\n",
       "  </thead>\n",
       "  <tbody>\n",
       "    <tr>\n",
       "      <th>0</th>\n",
       "      <td>/data/lung/SPIE_AAPM_Lung_CT_Challenge/LUNGx-C...</td>\n",
       "      <td>LUNGX-CT001</td>\n",
       "      <td>1</td>\n",
       "    </tr>\n",
       "    <tr>\n",
       "      <th>1</th>\n",
       "      <td>/data/lung/SPIE_AAPM_Lung_CT_Challenge/LUNGx-C...</td>\n",
       "      <td>LUNGX-CT002</td>\n",
       "      <td>0</td>\n",
       "    </tr>\n",
       "  </tbody>\n",
       "</table>\n",
       "</div>"
      ],
      "text/plain": [
       "                                           directory          pid event\n",
       "0  /data/lung/SPIE_AAPM_Lung_CT_Challenge/LUNGx-C...  LUNGX-CT001     1\n",
       "1  /data/lung/SPIE_AAPM_Lung_CT_Challenge/LUNGx-C...  LUNGX-CT002     0"
      ]
     },
     "execution_count": 40,
     "metadata": {},
     "output_type": "execute_result"
    }
   ],
   "source": [
    "df = pd.DataFrame(columns=['directory', 'pid', 'event'])\n",
    "\n",
    "# Data to add\n",
    "row1 = {\n",
    "    'directory': '/data/lung/SPIE_AAPM_Lung_CT_Challenge/LUNGx-CT001/09-24-2006-7805-CT INFUSED CHEST-62081/4.000000-HIGH RES-69714',\n",
    "    'pid': 'LUNGX-CT001',\n",
    "    'event': 1\n",
    "}\n",
    "\n",
    "row2 = {\n",
    "   'pid': 'LUNGX-CT002',\n",
    "    'directory': '/data/lung/SPIE_AAPM_Lung_CT_Challenge/LUNGx-CT002/05-25-2007-914-CT INFUSED CHEST-96111/4.000000-HIGH RES-70218', \n",
    "    'event': 0\n",
    "}\n",
    "\n",
    "# Add the new row to the DataFrame using pandas concat\n",
    "row1_df = pd.DataFrame([row1])\n",
    "row2_df = pd.DataFrame([row2])\n",
    "df = pd.concat([df, row1_df], ignore_index=True)\n",
    "df = pd.concat([df, row2_df], ignore_index=True)\n",
    "\n",
    "df\n"
   ]
  },
  {
   "cell_type": "code",
   "execution_count": 47,
   "id": "c69005d8",
   "metadata": {},
   "outputs": [
    {
     "name": "stderr",
     "output_type": "stream",
     "text": [
      "Processing cases: 100%|█████████████████████████████████████████████████████████████████████████████████████| 2/2 [00:14<00:00,  7.47s/it]\n"
     ]
    }
   ],
   "source": [
    "for i in range(num_years):\n",
    "    df[f'pred_risk_year_{i}'] = np.nan\n",
    "\n",
    "\n",
    "for index, row in tqdm(df.iterrows(), total=len(df), desc=\"Processing cases\"):\n",
    "    \n",
    "    dicom_dir = f\"/workspace{row['directory']}\"\n",
    "    event = row['event']\n",
    "    years_to_event = 1\n",
    "    pid = row['pid']\n",
    "    dicom_list = glob.glob(dicom_dir + '/*')\n",
    "    # serie = Serie(dicom_list, label=event, censor_time=years_to_event)\n",
    "    serie = Serie(dicom_list)\n",
    "    results = model.predict([serie], return_attentions=True, threads=10)\n",
    "        \n",
    "    # Update the risk scores columns for the current row\n",
    "    for i in range(num_years):\n",
    "        df.at[index, f'pred_risk_year_{i}'] = results.scores[0][i]"
   ]
  },
  {
   "cell_type": "code",
   "execution_count": 48,
   "id": "b70f7114",
   "metadata": {},
   "outputs": [
    {
     "data": {
      "text/html": [
       "<div>\n",
       "<style scoped>\n",
       "    .dataframe tbody tr th:only-of-type {\n",
       "        vertical-align: middle;\n",
       "    }\n",
       "\n",
       "    .dataframe tbody tr th {\n",
       "        vertical-align: top;\n",
       "    }\n",
       "\n",
       "    .dataframe thead th {\n",
       "        text-align: right;\n",
       "    }\n",
       "</style>\n",
       "<table border=\"1\" class=\"dataframe\">\n",
       "  <thead>\n",
       "    <tr style=\"text-align: right;\">\n",
       "      <th></th>\n",
       "      <th>directory</th>\n",
       "      <th>pid</th>\n",
       "      <th>event</th>\n",
       "      <th>pred_risk_year_0</th>\n",
       "      <th>pred_risk_year_1</th>\n",
       "      <th>pred_risk_year_2</th>\n",
       "      <th>pred_risk_year_3</th>\n",
       "      <th>pred_risk_year_4</th>\n",
       "      <th>pred_risk_year_5</th>\n",
       "    </tr>\n",
       "  </thead>\n",
       "  <tbody>\n",
       "    <tr>\n",
       "      <th>0</th>\n",
       "      <td>/data/lung/SPIE_AAPM_Lung_CT_Challenge/LUNGx-C...</td>\n",
       "      <td>LUNGX-CT001</td>\n",
       "      <td>1</td>\n",
       "      <td>0.162194</td>\n",
       "      <td>0.266052</td>\n",
       "      <td>0.257810</td>\n",
       "      <td>0.294426</td>\n",
       "      <td>0.326781</td>\n",
       "      <td>0.382972</td>\n",
       "    </tr>\n",
       "    <tr>\n",
       "      <th>1</th>\n",
       "      <td>/data/lung/SPIE_AAPM_Lung_CT_Challenge/LUNGx-C...</td>\n",
       "      <td>LUNGX-CT002</td>\n",
       "      <td>0</td>\n",
       "      <td>0.021629</td>\n",
       "      <td>0.038573</td>\n",
       "      <td>0.071919</td>\n",
       "      <td>0.079270</td>\n",
       "      <td>0.095846</td>\n",
       "      <td>0.135681</td>\n",
       "    </tr>\n",
       "  </tbody>\n",
       "</table>\n",
       "</div>"
      ],
      "text/plain": [
       "                                           directory          pid event  \\\n",
       "0  /data/lung/SPIE_AAPM_Lung_CT_Challenge/LUNGx-C...  LUNGX-CT001     1   \n",
       "1  /data/lung/SPIE_AAPM_Lung_CT_Challenge/LUNGx-C...  LUNGX-CT002     0   \n",
       "\n",
       "   pred_risk_year_0  pred_risk_year_1  pred_risk_year_2  pred_risk_year_3  \\\n",
       "0          0.162194          0.266052          0.257810          0.294426   \n",
       "1          0.021629          0.038573          0.071919          0.079270   \n",
       "\n",
       "   pred_risk_year_4  pred_risk_year_5  \n",
       "0          0.326781          0.382972  \n",
       "1          0.095846          0.135681  "
      ]
     },
     "execution_count": 48,
     "metadata": {},
     "output_type": "execute_result"
    }
   ],
   "source": [
    "df"
   ]
  },
  {
   "cell_type": "code",
   "execution_count": null,
   "id": "967c0d56",
   "metadata": {},
   "outputs": [],
   "source": []
  },
  {
   "cell_type": "code",
   "execution_count": 24,
   "id": "908870dc",
   "metadata": {},
   "outputs": [
    {
     "name": "stdout",
     "output_type": "stream",
     "text": [
      "['/workspace/data/lung/SPIE_AAPM_Lung_CT_Challenge/LUNGx-CT001/09-24-2006-7805-CT INFUSED CHEST-62081/4.000000-HIGH RES-69714/1-022.dcm', '/workspace/data/lung/SPIE_AAPM_Lung_CT_Challenge/LUNGx-CT001/09-24-2006-7805-CT INFUSED CHEST-62081/4.000000-HIGH RES-69714/1-234.dcm', '/workspace/data/lung/SPIE_AAPM_Lung_CT_Challenge/LUNGx-CT001/09-24-2006-7805-CT INFUSED CHEST-62081/4.000000-HIGH RES-69714/1-164.dcm', '/workspace/data/lung/SPIE_AAPM_Lung_CT_Challenge/LUNGx-CT001/09-24-2006-7805-CT INFUSED CHEST-62081/4.000000-HIGH RES-69714/1-046.dcm', '/workspace/data/lung/SPIE_AAPM_Lung_CT_Challenge/LUNGx-CT001/09-24-2006-7805-CT INFUSED CHEST-62081/4.000000-HIGH RES-69714/1-248.dcm', '/workspace/data/lung/SPIE_AAPM_Lung_CT_Challenge/LUNGx-CT001/09-24-2006-7805-CT INFUSED CHEST-62081/4.000000-HIGH RES-69714/1-053.dcm', '/workspace/data/lung/SPIE_AAPM_Lung_CT_Challenge/LUNGx-CT001/09-24-2006-7805-CT INFUSED CHEST-62081/4.000000-HIGH RES-69714/1-127.dcm', '/workspace/data/lung/SPIE_AAPM_Lung_CT_Challenge/LUNGx-CT001/09-24-2006-7805-CT INFUSED CHEST-62081/4.000000-HIGH RES-69714/1-270.dcm', '/workspace/data/lung/SPIE_AAPM_Lung_CT_Challenge/LUNGx-CT001/09-24-2006-7805-CT INFUSED CHEST-62081/4.000000-HIGH RES-69714/1-262.dcm', '/workspace/data/lung/SPIE_AAPM_Lung_CT_Challenge/LUNGx-CT001/09-24-2006-7805-CT INFUSED CHEST-62081/4.000000-HIGH RES-69714/1-296.dcm', '/workspace/data/lung/SPIE_AAPM_Lung_CT_Challenge/LUNGx-CT001/09-24-2006-7805-CT INFUSED CHEST-62081/4.000000-HIGH RES-69714/1-084.dcm', '/workspace/data/lung/SPIE_AAPM_Lung_CT_Challenge/LUNGx-CT001/09-24-2006-7805-CT INFUSED CHEST-62081/4.000000-HIGH RES-69714/1-155.dcm', '/workspace/data/lung/SPIE_AAPM_Lung_CT_Challenge/LUNGx-CT001/09-24-2006-7805-CT INFUSED CHEST-62081/4.000000-HIGH RES-69714/1-043.dcm', '/workspace/data/lung/SPIE_AAPM_Lung_CT_Challenge/LUNGx-CT001/09-24-2006-7805-CT INFUSED CHEST-62081/4.000000-HIGH RES-69714/1-256.dcm', '/workspace/data/lung/SPIE_AAPM_Lung_CT_Challenge/LUNGx-CT001/09-24-2006-7805-CT INFUSED CHEST-62081/4.000000-HIGH RES-69714/1-098.dcm', '/workspace/data/lung/SPIE_AAPM_Lung_CT_Challenge/LUNGx-CT001/09-24-2006-7805-CT INFUSED CHEST-62081/4.000000-HIGH RES-69714/1-016.dcm', '/workspace/data/lung/SPIE_AAPM_Lung_CT_Challenge/LUNGx-CT001/09-24-2006-7805-CT INFUSED CHEST-62081/4.000000-HIGH RES-69714/1-132.dcm', '/workspace/data/lung/SPIE_AAPM_Lung_CT_Challenge/LUNGx-CT001/09-24-2006-7805-CT INFUSED CHEST-62081/4.000000-HIGH RES-69714/1-139.dcm', '/workspace/data/lung/SPIE_AAPM_Lung_CT_Challenge/LUNGx-CT001/09-24-2006-7805-CT INFUSED CHEST-62081/4.000000-HIGH RES-69714/1-049.dcm', '/workspace/data/lung/SPIE_AAPM_Lung_CT_Challenge/LUNGx-CT001/09-24-2006-7805-CT INFUSED CHEST-62081/4.000000-HIGH RES-69714/1-202.dcm', '/workspace/data/lung/SPIE_AAPM_Lung_CT_Challenge/LUNGx-CT001/09-24-2006-7805-CT INFUSED CHEST-62081/4.000000-HIGH RES-69714/1-087.dcm', '/workspace/data/lung/SPIE_AAPM_Lung_CT_Challenge/LUNGx-CT001/09-24-2006-7805-CT INFUSED CHEST-62081/4.000000-HIGH RES-69714/1-301.dcm', '/workspace/data/lung/SPIE_AAPM_Lung_CT_Challenge/LUNGx-CT001/09-24-2006-7805-CT INFUSED CHEST-62081/4.000000-HIGH RES-69714/1-210.dcm', '/workspace/data/lung/SPIE_AAPM_Lung_CT_Challenge/LUNGx-CT001/09-24-2006-7805-CT INFUSED CHEST-62081/4.000000-HIGH RES-69714/1-239.dcm', '/workspace/data/lung/SPIE_AAPM_Lung_CT_Challenge/LUNGx-CT001/09-24-2006-7805-CT INFUSED CHEST-62081/4.000000-HIGH RES-69714/1-088.dcm', '/workspace/data/lung/SPIE_AAPM_Lung_CT_Challenge/LUNGx-CT001/09-24-2006-7805-CT INFUSED CHEST-62081/4.000000-HIGH RES-69714/1-310.dcm', '/workspace/data/lung/SPIE_AAPM_Lung_CT_Challenge/LUNGx-CT001/09-24-2006-7805-CT INFUSED CHEST-62081/4.000000-HIGH RES-69714/1-113.dcm', '/workspace/data/lung/SPIE_AAPM_Lung_CT_Challenge/LUNGx-CT001/09-24-2006-7805-CT INFUSED CHEST-62081/4.000000-HIGH RES-69714/1-118.dcm', '/workspace/data/lung/SPIE_AAPM_Lung_CT_Challenge/LUNGx-CT001/09-24-2006-7805-CT INFUSED CHEST-62081/4.000000-HIGH RES-69714/1-243.dcm', '/workspace/data/lung/SPIE_AAPM_Lung_CT_Challenge/LUNGx-CT001/09-24-2006-7805-CT INFUSED CHEST-62081/4.000000-HIGH RES-69714/1-083.dcm', '/workspace/data/lung/SPIE_AAPM_Lung_CT_Challenge/LUNGx-CT001/09-24-2006-7805-CT INFUSED CHEST-62081/4.000000-HIGH RES-69714/1-008.dcm', '/workspace/data/lung/SPIE_AAPM_Lung_CT_Challenge/LUNGx-CT001/09-24-2006-7805-CT INFUSED CHEST-62081/4.000000-HIGH RES-69714/1-245.dcm', '/workspace/data/lung/SPIE_AAPM_Lung_CT_Challenge/LUNGx-CT001/09-24-2006-7805-CT INFUSED CHEST-62081/4.000000-HIGH RES-69714/1-097.dcm', '/workspace/data/lung/SPIE_AAPM_Lung_CT_Challenge/LUNGx-CT001/09-24-2006-7805-CT INFUSED CHEST-62081/4.000000-HIGH RES-69714/1-159.dcm', '/workspace/data/lung/SPIE_AAPM_Lung_CT_Challenge/LUNGx-CT001/09-24-2006-7805-CT INFUSED CHEST-62081/4.000000-HIGH RES-69714/1-252.dcm', '/workspace/data/lung/SPIE_AAPM_Lung_CT_Challenge/LUNGx-CT001/09-24-2006-7805-CT INFUSED CHEST-62081/4.000000-HIGH RES-69714/1-277.dcm', '/workspace/data/lung/SPIE_AAPM_Lung_CT_Challenge/LUNGx-CT001/09-24-2006-7805-CT INFUSED CHEST-62081/4.000000-HIGH RES-69714/1-204.dcm', '/workspace/data/lung/SPIE_AAPM_Lung_CT_Challenge/LUNGx-CT001/09-24-2006-7805-CT INFUSED CHEST-62081/4.000000-HIGH RES-69714/1-108.dcm', '/workspace/data/lung/SPIE_AAPM_Lung_CT_Challenge/LUNGx-CT001/09-24-2006-7805-CT INFUSED CHEST-62081/4.000000-HIGH RES-69714/1-287.dcm', '/workspace/data/lung/SPIE_AAPM_Lung_CT_Challenge/LUNGx-CT001/09-24-2006-7805-CT INFUSED CHEST-62081/4.000000-HIGH RES-69714/1-141.dcm', '/workspace/data/lung/SPIE_AAPM_Lung_CT_Challenge/LUNGx-CT001/09-24-2006-7805-CT INFUSED CHEST-62081/4.000000-HIGH RES-69714/1-286.dcm', '/workspace/data/lung/SPIE_AAPM_Lung_CT_Challenge/LUNGx-CT001/09-24-2006-7805-CT INFUSED CHEST-62081/4.000000-HIGH RES-69714/1-157.dcm', '/workspace/data/lung/SPIE_AAPM_Lung_CT_Challenge/LUNGx-CT001/09-24-2006-7805-CT INFUSED CHEST-62081/4.000000-HIGH RES-69714/1-222.dcm', '/workspace/data/lung/SPIE_AAPM_Lung_CT_Challenge/LUNGx-CT001/09-24-2006-7805-CT INFUSED CHEST-62081/4.000000-HIGH RES-69714/1-107.dcm', '/workspace/data/lung/SPIE_AAPM_Lung_CT_Challenge/LUNGx-CT001/09-24-2006-7805-CT INFUSED CHEST-62081/4.000000-HIGH RES-69714/1-015.dcm', '/workspace/data/lung/SPIE_AAPM_Lung_CT_Challenge/LUNGx-CT001/09-24-2006-7805-CT INFUSED CHEST-62081/4.000000-HIGH RES-69714/1-111.dcm', '/workspace/data/lung/SPIE_AAPM_Lung_CT_Challenge/LUNGx-CT001/09-24-2006-7805-CT INFUSED CHEST-62081/4.000000-HIGH RES-69714/1-047.dcm', '/workspace/data/lung/SPIE_AAPM_Lung_CT_Challenge/LUNGx-CT001/09-24-2006-7805-CT INFUSED CHEST-62081/4.000000-HIGH RES-69714/1-266.dcm', '/workspace/data/lung/SPIE_AAPM_Lung_CT_Challenge/LUNGx-CT001/09-24-2006-7805-CT INFUSED CHEST-62081/4.000000-HIGH RES-69714/1-130.dcm', '/workspace/data/lung/SPIE_AAPM_Lung_CT_Challenge/LUNGx-CT001/09-24-2006-7805-CT INFUSED CHEST-62081/4.000000-HIGH RES-69714/1-013.dcm', '/workspace/data/lung/SPIE_AAPM_Lung_CT_Challenge/LUNGx-CT001/09-24-2006-7805-CT INFUSED CHEST-62081/4.000000-HIGH RES-69714/1-136.dcm', '/workspace/data/lung/SPIE_AAPM_Lung_CT_Challenge/LUNGx-CT001/09-24-2006-7805-CT INFUSED CHEST-62081/4.000000-HIGH RES-69714/1-203.dcm', '/workspace/data/lung/SPIE_AAPM_Lung_CT_Challenge/LUNGx-CT001/09-24-2006-7805-CT INFUSED CHEST-62081/4.000000-HIGH RES-69714/1-052.dcm', '/workspace/data/lung/SPIE_AAPM_Lung_CT_Challenge/LUNGx-CT001/09-24-2006-7805-CT INFUSED CHEST-62081/4.000000-HIGH RES-69714/1-033.dcm', '/workspace/data/lung/SPIE_AAPM_Lung_CT_Challenge/LUNGx-CT001/09-24-2006-7805-CT INFUSED CHEST-62081/4.000000-HIGH RES-69714/1-215.dcm', '/workspace/data/lung/SPIE_AAPM_Lung_CT_Challenge/LUNGx-CT001/09-24-2006-7805-CT INFUSED CHEST-62081/4.000000-HIGH RES-69714/1-076.dcm', '/workspace/data/lung/SPIE_AAPM_Lung_CT_Challenge/LUNGx-CT001/09-24-2006-7805-CT INFUSED CHEST-62081/4.000000-HIGH RES-69714/1-291.dcm', '/workspace/data/lung/SPIE_AAPM_Lung_CT_Challenge/LUNGx-CT001/09-24-2006-7805-CT INFUSED CHEST-62081/4.000000-HIGH RES-69714/1-217.dcm', '/workspace/data/lung/SPIE_AAPM_Lung_CT_Challenge/LUNGx-CT001/09-24-2006-7805-CT INFUSED CHEST-62081/4.000000-HIGH RES-69714/1-060.dcm', '/workspace/data/lung/SPIE_AAPM_Lung_CT_Challenge/LUNGx-CT001/09-24-2006-7805-CT INFUSED CHEST-62081/4.000000-HIGH RES-69714/1-066.dcm', '/workspace/data/lung/SPIE_AAPM_Lung_CT_Challenge/LUNGx-CT001/09-24-2006-7805-CT INFUSED CHEST-62081/4.000000-HIGH RES-69714/1-183.dcm', '/workspace/data/lung/SPIE_AAPM_Lung_CT_Challenge/LUNGx-CT001/09-24-2006-7805-CT INFUSED CHEST-62081/4.000000-HIGH RES-69714/1-023.dcm', '/workspace/data/lung/SPIE_AAPM_Lung_CT_Challenge/LUNGx-CT001/09-24-2006-7805-CT INFUSED CHEST-62081/4.000000-HIGH RES-69714/1-213.dcm', '/workspace/data/lung/SPIE_AAPM_Lung_CT_Challenge/LUNGx-CT001/09-24-2006-7805-CT INFUSED CHEST-62081/4.000000-HIGH RES-69714/1-180.dcm', '/workspace/data/lung/SPIE_AAPM_Lung_CT_Challenge/LUNGx-CT001/09-24-2006-7805-CT INFUSED CHEST-62081/4.000000-HIGH RES-69714/1-216.dcm', '/workspace/data/lung/SPIE_AAPM_Lung_CT_Challenge/LUNGx-CT001/09-24-2006-7805-CT INFUSED CHEST-62081/4.000000-HIGH RES-69714/1-288.dcm', '/workspace/data/lung/SPIE_AAPM_Lung_CT_Challenge/LUNGx-CT001/09-24-2006-7805-CT INFUSED CHEST-62081/4.000000-HIGH RES-69714/1-280.dcm', '/workspace/data/lung/SPIE_AAPM_Lung_CT_Challenge/LUNGx-CT001/09-24-2006-7805-CT INFUSED CHEST-62081/4.000000-HIGH RES-69714/1-026.dcm', '/workspace/data/lung/SPIE_AAPM_Lung_CT_Challenge/LUNGx-CT001/09-24-2006-7805-CT INFUSED CHEST-62081/4.000000-HIGH RES-69714/1-123.dcm', '/workspace/data/lung/SPIE_AAPM_Lung_CT_Challenge/LUNGx-CT001/09-24-2006-7805-CT INFUSED CHEST-62081/4.000000-HIGH RES-69714/1-058.dcm', '/workspace/data/lung/SPIE_AAPM_Lung_CT_Challenge/LUNGx-CT001/09-24-2006-7805-CT INFUSED CHEST-62081/4.000000-HIGH RES-69714/1-278.dcm', '/workspace/data/lung/SPIE_AAPM_Lung_CT_Challenge/LUNGx-CT001/09-24-2006-7805-CT INFUSED CHEST-62081/4.000000-HIGH RES-69714/1-121.dcm', '/workspace/data/lung/SPIE_AAPM_Lung_CT_Challenge/LUNGx-CT001/09-24-2006-7805-CT INFUSED CHEST-62081/4.000000-HIGH RES-69714/1-264.dcm', '/workspace/data/lung/SPIE_AAPM_Lung_CT_Challenge/LUNGx-CT001/09-24-2006-7805-CT INFUSED CHEST-62081/4.000000-HIGH RES-69714/1-067.dcm', '/workspace/data/lung/SPIE_AAPM_Lung_CT_Challenge/LUNGx-CT001/09-24-2006-7805-CT INFUSED CHEST-62081/4.000000-HIGH RES-69714/1-305.dcm', '/workspace/data/lung/SPIE_AAPM_Lung_CT_Challenge/LUNGx-CT001/09-24-2006-7805-CT INFUSED CHEST-62081/4.000000-HIGH RES-69714/1-051.dcm', '/workspace/data/lung/SPIE_AAPM_Lung_CT_Challenge/LUNGx-CT001/09-24-2006-7805-CT INFUSED CHEST-62081/4.000000-HIGH RES-69714/1-283.dcm', '/workspace/data/lung/SPIE_AAPM_Lung_CT_Challenge/LUNGx-CT001/09-24-2006-7805-CT INFUSED CHEST-62081/4.000000-HIGH RES-69714/1-044.dcm', '/workspace/data/lung/SPIE_AAPM_Lung_CT_Challenge/LUNGx-CT001/09-24-2006-7805-CT INFUSED CHEST-62081/4.000000-HIGH RES-69714/1-037.dcm', '/workspace/data/lung/SPIE_AAPM_Lung_CT_Challenge/LUNGx-CT001/09-24-2006-7805-CT INFUSED CHEST-62081/4.000000-HIGH RES-69714/1-250.dcm', '/workspace/data/lung/SPIE_AAPM_Lung_CT_Challenge/LUNGx-CT001/09-24-2006-7805-CT INFUSED CHEST-62081/4.000000-HIGH RES-69714/1-092.dcm', '/workspace/data/lung/SPIE_AAPM_Lung_CT_Challenge/LUNGx-CT001/09-24-2006-7805-CT INFUSED CHEST-62081/4.000000-HIGH RES-69714/1-074.dcm', '/workspace/data/lung/SPIE_AAPM_Lung_CT_Challenge/LUNGx-CT001/09-24-2006-7805-CT INFUSED CHEST-62081/4.000000-HIGH RES-69714/1-281.dcm', '/workspace/data/lung/SPIE_AAPM_Lung_CT_Challenge/LUNGx-CT001/09-24-2006-7805-CT INFUSED CHEST-62081/4.000000-HIGH RES-69714/1-247.dcm', '/workspace/data/lung/SPIE_AAPM_Lung_CT_Challenge/LUNGx-CT001/09-24-2006-7805-CT INFUSED CHEST-62081/4.000000-HIGH RES-69714/1-091.dcm', '/workspace/data/lung/SPIE_AAPM_Lung_CT_Challenge/LUNGx-CT001/09-24-2006-7805-CT INFUSED CHEST-62081/4.000000-HIGH RES-69714/1-302.dcm', '/workspace/data/lung/SPIE_AAPM_Lung_CT_Challenge/LUNGx-CT001/09-24-2006-7805-CT INFUSED CHEST-62081/4.000000-HIGH RES-69714/1-194.dcm', '/workspace/data/lung/SPIE_AAPM_Lung_CT_Challenge/LUNGx-CT001/09-24-2006-7805-CT INFUSED CHEST-62081/4.000000-HIGH RES-69714/1-306.dcm', '/workspace/data/lung/SPIE_AAPM_Lung_CT_Challenge/LUNGx-CT001/09-24-2006-7805-CT INFUSED CHEST-62081/4.000000-HIGH RES-69714/1-238.dcm', '/workspace/data/lung/SPIE_AAPM_Lung_CT_Challenge/LUNGx-CT001/09-24-2006-7805-CT INFUSED CHEST-62081/4.000000-HIGH RES-69714/1-307.dcm', '/workspace/data/lung/SPIE_AAPM_Lung_CT_Challenge/LUNGx-CT001/09-24-2006-7805-CT INFUSED CHEST-62081/4.000000-HIGH RES-69714/1-299.dcm', '/workspace/data/lung/SPIE_AAPM_Lung_CT_Challenge/LUNGx-CT001/09-24-2006-7805-CT INFUSED CHEST-62081/4.000000-HIGH RES-69714/1-152.dcm', '/workspace/data/lung/SPIE_AAPM_Lung_CT_Challenge/LUNGx-CT001/09-24-2006-7805-CT INFUSED CHEST-62081/4.000000-HIGH RES-69714/1-045.dcm', '/workspace/data/lung/SPIE_AAPM_Lung_CT_Challenge/LUNGx-CT001/09-24-2006-7805-CT INFUSED CHEST-62081/4.000000-HIGH RES-69714/1-126.dcm', '/workspace/data/lung/SPIE_AAPM_Lung_CT_Challenge/LUNGx-CT001/09-24-2006-7805-CT INFUSED CHEST-62081/4.000000-HIGH RES-69714/1-128.dcm', '/workspace/data/lung/SPIE_AAPM_Lung_CT_Challenge/LUNGx-CT001/09-24-2006-7805-CT INFUSED CHEST-62081/4.000000-HIGH RES-69714/1-025.dcm', '/workspace/data/lung/SPIE_AAPM_Lung_CT_Challenge/LUNGx-CT001/09-24-2006-7805-CT INFUSED CHEST-62081/4.000000-HIGH RES-69714/1-122.dcm', '/workspace/data/lung/SPIE_AAPM_Lung_CT_Challenge/LUNGx-CT001/09-24-2006-7805-CT INFUSED CHEST-62081/4.000000-HIGH RES-69714/1-059.dcm', '/workspace/data/lung/SPIE_AAPM_Lung_CT_Challenge/LUNGx-CT001/09-24-2006-7805-CT INFUSED CHEST-62081/4.000000-HIGH RES-69714/1-294.dcm', '/workspace/data/lung/SPIE_AAPM_Lung_CT_Challenge/LUNGx-CT001/09-24-2006-7805-CT INFUSED CHEST-62081/4.000000-HIGH RES-69714/1-003.dcm', '/workspace/data/lung/SPIE_AAPM_Lung_CT_Challenge/LUNGx-CT001/09-24-2006-7805-CT INFUSED CHEST-62081/4.000000-HIGH RES-69714/1-138.dcm', '/workspace/data/lung/SPIE_AAPM_Lung_CT_Challenge/LUNGx-CT001/09-24-2006-7805-CT INFUSED CHEST-62081/4.000000-HIGH RES-69714/1-145.dcm', '/workspace/data/lung/SPIE_AAPM_Lung_CT_Challenge/LUNGx-CT001/09-24-2006-7805-CT INFUSED CHEST-62081/4.000000-HIGH RES-69714/1-054.dcm', '/workspace/data/lung/SPIE_AAPM_Lung_CT_Challenge/LUNGx-CT001/09-24-2006-7805-CT INFUSED CHEST-62081/4.000000-HIGH RES-69714/1-081.dcm', '/workspace/data/lung/SPIE_AAPM_Lung_CT_Challenge/LUNGx-CT001/09-24-2006-7805-CT INFUSED CHEST-62081/4.000000-HIGH RES-69714/1-242.dcm', '/workspace/data/lung/SPIE_AAPM_Lung_CT_Challenge/LUNGx-CT001/09-24-2006-7805-CT INFUSED CHEST-62081/4.000000-HIGH RES-69714/1-167.dcm', '/workspace/data/lung/SPIE_AAPM_Lung_CT_Challenge/LUNGx-CT001/09-24-2006-7805-CT INFUSED CHEST-62081/4.000000-HIGH RES-69714/1-224.dcm', '/workspace/data/lung/SPIE_AAPM_Lung_CT_Challenge/LUNGx-CT001/09-24-2006-7805-CT INFUSED CHEST-62081/4.000000-HIGH RES-69714/1-253.dcm', '/workspace/data/lung/SPIE_AAPM_Lung_CT_Challenge/LUNGx-CT001/09-24-2006-7805-CT INFUSED CHEST-62081/4.000000-HIGH RES-69714/1-175.dcm', '/workspace/data/lung/SPIE_AAPM_Lung_CT_Challenge/LUNGx-CT001/09-24-2006-7805-CT INFUSED CHEST-62081/4.000000-HIGH RES-69714/1-225.dcm', '/workspace/data/lung/SPIE_AAPM_Lung_CT_Challenge/LUNGx-CT001/09-24-2006-7805-CT INFUSED CHEST-62081/4.000000-HIGH RES-69714/1-276.dcm', '/workspace/data/lung/SPIE_AAPM_Lung_CT_Challenge/LUNGx-CT001/09-24-2006-7805-CT INFUSED CHEST-62081/4.000000-HIGH RES-69714/1-303.dcm', '/workspace/data/lung/SPIE_AAPM_Lung_CT_Challenge/LUNGx-CT001/09-24-2006-7805-CT INFUSED CHEST-62081/4.000000-HIGH RES-69714/1-028.dcm', '/workspace/data/lung/SPIE_AAPM_Lung_CT_Challenge/LUNGx-CT001/09-24-2006-7805-CT INFUSED CHEST-62081/4.000000-HIGH RES-69714/1-019.dcm', '/workspace/data/lung/SPIE_AAPM_Lung_CT_Challenge/LUNGx-CT001/09-24-2006-7805-CT INFUSED CHEST-62081/4.000000-HIGH RES-69714/1-192.dcm', '/workspace/data/lung/SPIE_AAPM_Lung_CT_Challenge/LUNGx-CT001/09-24-2006-7805-CT INFUSED CHEST-62081/4.000000-HIGH RES-69714/1-096.dcm', '/workspace/data/lung/SPIE_AAPM_Lung_CT_Challenge/LUNGx-CT001/09-24-2006-7805-CT INFUSED CHEST-62081/4.000000-HIGH RES-69714/1-038.dcm', '/workspace/data/lung/SPIE_AAPM_Lung_CT_Challenge/LUNGx-CT001/09-24-2006-7805-CT INFUSED CHEST-62081/4.000000-HIGH RES-69714/1-070.dcm', '/workspace/data/lung/SPIE_AAPM_Lung_CT_Challenge/LUNGx-CT001/09-24-2006-7805-CT INFUSED CHEST-62081/4.000000-HIGH RES-69714/1-200.dcm', '/workspace/data/lung/SPIE_AAPM_Lung_CT_Challenge/LUNGx-CT001/09-24-2006-7805-CT INFUSED CHEST-62081/4.000000-HIGH RES-69714/1-048.dcm', '/workspace/data/lung/SPIE_AAPM_Lung_CT_Challenge/LUNGx-CT001/09-24-2006-7805-CT INFUSED CHEST-62081/4.000000-HIGH RES-69714/1-205.dcm', '/workspace/data/lung/SPIE_AAPM_Lung_CT_Challenge/LUNGx-CT001/09-24-2006-7805-CT INFUSED CHEST-62081/4.000000-HIGH RES-69714/1-114.dcm', '/workspace/data/lung/SPIE_AAPM_Lung_CT_Challenge/LUNGx-CT001/09-24-2006-7805-CT INFUSED CHEST-62081/4.000000-HIGH RES-69714/1-199.dcm', '/workspace/data/lung/SPIE_AAPM_Lung_CT_Challenge/LUNGx-CT001/09-24-2006-7805-CT INFUSED CHEST-62081/4.000000-HIGH RES-69714/1-285.dcm', '/workspace/data/lung/SPIE_AAPM_Lung_CT_Challenge/LUNGx-CT001/09-24-2006-7805-CT INFUSED CHEST-62081/4.000000-HIGH RES-69714/1-041.dcm', '/workspace/data/lung/SPIE_AAPM_Lung_CT_Challenge/LUNGx-CT001/09-24-2006-7805-CT INFUSED CHEST-62081/4.000000-HIGH RES-69714/1-153.dcm', '/workspace/data/lung/SPIE_AAPM_Lung_CT_Challenge/LUNGx-CT001/09-24-2006-7805-CT INFUSED CHEST-62081/4.000000-HIGH RES-69714/1-289.dcm', '/workspace/data/lung/SPIE_AAPM_Lung_CT_Challenge/LUNGx-CT001/09-24-2006-7805-CT INFUSED CHEST-62081/4.000000-HIGH RES-69714/1-196.dcm', '/workspace/data/lung/SPIE_AAPM_Lung_CT_Challenge/LUNGx-CT001/09-24-2006-7805-CT INFUSED CHEST-62081/4.000000-HIGH RES-69714/1-173.dcm', '/workspace/data/lung/SPIE_AAPM_Lung_CT_Challenge/LUNGx-CT001/09-24-2006-7805-CT INFUSED CHEST-62081/4.000000-HIGH RES-69714/1-169.dcm', '/workspace/data/lung/SPIE_AAPM_Lung_CT_Challenge/LUNGx-CT001/09-24-2006-7805-CT INFUSED CHEST-62081/4.000000-HIGH RES-69714/1-120.dcm', '/workspace/data/lung/SPIE_AAPM_Lung_CT_Challenge/LUNGx-CT001/09-24-2006-7805-CT INFUSED CHEST-62081/4.000000-HIGH RES-69714/1-089.dcm', '/workspace/data/lung/SPIE_AAPM_Lung_CT_Challenge/LUNGx-CT001/09-24-2006-7805-CT INFUSED CHEST-62081/4.000000-HIGH RES-69714/1-272.dcm', '/workspace/data/lung/SPIE_AAPM_Lung_CT_Challenge/LUNGx-CT001/09-24-2006-7805-CT INFUSED CHEST-62081/4.000000-HIGH RES-69714/1-086.dcm', '/workspace/data/lung/SPIE_AAPM_Lung_CT_Challenge/LUNGx-CT001/09-24-2006-7805-CT INFUSED CHEST-62081/4.000000-HIGH RES-69714/1-117.dcm', '/workspace/data/lung/SPIE_AAPM_Lung_CT_Challenge/LUNGx-CT001/09-24-2006-7805-CT INFUSED CHEST-62081/4.000000-HIGH RES-69714/1-186.dcm', '/workspace/data/lung/SPIE_AAPM_Lung_CT_Challenge/LUNGx-CT001/09-24-2006-7805-CT INFUSED CHEST-62081/4.000000-HIGH RES-69714/1-198.dcm', '/workspace/data/lung/SPIE_AAPM_Lung_CT_Challenge/LUNGx-CT001/09-24-2006-7805-CT INFUSED CHEST-62081/4.000000-HIGH RES-69714/1-024.dcm', '/workspace/data/lung/SPIE_AAPM_Lung_CT_Challenge/LUNGx-CT001/09-24-2006-7805-CT INFUSED CHEST-62081/4.000000-HIGH RES-69714/1-300.dcm', '/workspace/data/lung/SPIE_AAPM_Lung_CT_Challenge/LUNGx-CT001/09-24-2006-7805-CT INFUSED CHEST-62081/4.000000-HIGH RES-69714/1-191.dcm', '/workspace/data/lung/SPIE_AAPM_Lung_CT_Challenge/LUNGx-CT001/09-24-2006-7805-CT INFUSED CHEST-62081/4.000000-HIGH RES-69714/1-148.dcm', '/workspace/data/lung/SPIE_AAPM_Lung_CT_Challenge/LUNGx-CT001/09-24-2006-7805-CT INFUSED CHEST-62081/4.000000-HIGH RES-69714/1-135.dcm', '/workspace/data/lung/SPIE_AAPM_Lung_CT_Challenge/LUNGx-CT001/09-24-2006-7805-CT INFUSED CHEST-62081/4.000000-HIGH RES-69714/1-231.dcm', '/workspace/data/lung/SPIE_AAPM_Lung_CT_Challenge/LUNGx-CT001/09-24-2006-7805-CT INFUSED CHEST-62081/4.000000-HIGH RES-69714/1-042.dcm', '/workspace/data/lung/SPIE_AAPM_Lung_CT_Challenge/LUNGx-CT001/09-24-2006-7805-CT INFUSED CHEST-62081/4.000000-HIGH RES-69714/1-079.dcm', '/workspace/data/lung/SPIE_AAPM_Lung_CT_Challenge/LUNGx-CT001/09-24-2006-7805-CT INFUSED CHEST-62081/4.000000-HIGH RES-69714/1-154.dcm', '/workspace/data/lung/SPIE_AAPM_Lung_CT_Challenge/LUNGx-CT001/09-24-2006-7805-CT INFUSED CHEST-62081/4.000000-HIGH RES-69714/1-080.dcm', '/workspace/data/lung/SPIE_AAPM_Lung_CT_Challenge/LUNGx-CT001/09-24-2006-7805-CT INFUSED CHEST-62081/4.000000-HIGH RES-69714/1-073.dcm', '/workspace/data/lung/SPIE_AAPM_Lung_CT_Challenge/LUNGx-CT001/09-24-2006-7805-CT INFUSED CHEST-62081/4.000000-HIGH RES-69714/1-184.dcm', '/workspace/data/lung/SPIE_AAPM_Lung_CT_Challenge/LUNGx-CT001/09-24-2006-7805-CT INFUSED CHEST-62081/4.000000-HIGH RES-69714/1-211.dcm', '/workspace/data/lung/SPIE_AAPM_Lung_CT_Challenge/LUNGx-CT001/09-24-2006-7805-CT INFUSED CHEST-62081/4.000000-HIGH RES-69714/1-313.dcm', '/workspace/data/lung/SPIE_AAPM_Lung_CT_Challenge/LUNGx-CT001/09-24-2006-7805-CT INFUSED CHEST-62081/4.000000-HIGH RES-69714/1-036.dcm', '/workspace/data/lung/SPIE_AAPM_Lung_CT_Challenge/LUNGx-CT001/09-24-2006-7805-CT INFUSED CHEST-62081/4.000000-HIGH RES-69714/1-071.dcm', '/workspace/data/lung/SPIE_AAPM_Lung_CT_Challenge/LUNGx-CT001/09-24-2006-7805-CT INFUSED CHEST-62081/4.000000-HIGH RES-69714/1-010.dcm', '/workspace/data/lung/SPIE_AAPM_Lung_CT_Challenge/LUNGx-CT001/09-24-2006-7805-CT INFUSED CHEST-62081/4.000000-HIGH RES-69714/1-017.dcm', '/workspace/data/lung/SPIE_AAPM_Lung_CT_Challenge/LUNGx-CT001/09-24-2006-7805-CT INFUSED CHEST-62081/4.000000-HIGH RES-69714/1-093.dcm', '/workspace/data/lung/SPIE_AAPM_Lung_CT_Challenge/LUNGx-CT001/09-24-2006-7805-CT INFUSED CHEST-62081/4.000000-HIGH RES-69714/1-244.dcm', '/workspace/data/lung/SPIE_AAPM_Lung_CT_Challenge/LUNGx-CT001/09-24-2006-7805-CT INFUSED CHEST-62081/4.000000-HIGH RES-69714/1-085.dcm', '/workspace/data/lung/SPIE_AAPM_Lung_CT_Challenge/LUNGx-CT001/09-24-2006-7805-CT INFUSED CHEST-62081/4.000000-HIGH RES-69714/1-275.dcm', '/workspace/data/lung/SPIE_AAPM_Lung_CT_Challenge/LUNGx-CT001/09-24-2006-7805-CT INFUSED CHEST-62081/4.000000-HIGH RES-69714/1-162.dcm', '/workspace/data/lung/SPIE_AAPM_Lung_CT_Challenge/LUNGx-CT001/09-24-2006-7805-CT INFUSED CHEST-62081/4.000000-HIGH RES-69714/1-035.dcm', '/workspace/data/lung/SPIE_AAPM_Lung_CT_Challenge/LUNGx-CT001/09-24-2006-7805-CT INFUSED CHEST-62081/4.000000-HIGH RES-69714/1-105.dcm', '/workspace/data/lung/SPIE_AAPM_Lung_CT_Challenge/LUNGx-CT001/09-24-2006-7805-CT INFUSED CHEST-62081/4.000000-HIGH RES-69714/1-178.dcm', '/workspace/data/lung/SPIE_AAPM_Lung_CT_Challenge/LUNGx-CT001/09-24-2006-7805-CT INFUSED CHEST-62081/4.000000-HIGH RES-69714/1-061.dcm', '/workspace/data/lung/SPIE_AAPM_Lung_CT_Challenge/LUNGx-CT001/09-24-2006-7805-CT INFUSED CHEST-62081/4.000000-HIGH RES-69714/1-005.dcm', '/workspace/data/lung/SPIE_AAPM_Lung_CT_Challenge/LUNGx-CT001/09-24-2006-7805-CT INFUSED CHEST-62081/4.000000-HIGH RES-69714/1-249.dcm', '/workspace/data/lung/SPIE_AAPM_Lung_CT_Challenge/LUNGx-CT001/09-24-2006-7805-CT INFUSED CHEST-62081/4.000000-HIGH RES-69714/1-189.dcm', '/workspace/data/lung/SPIE_AAPM_Lung_CT_Challenge/LUNGx-CT001/09-24-2006-7805-CT INFUSED CHEST-62081/4.000000-HIGH RES-69714/1-273.dcm', '/workspace/data/lung/SPIE_AAPM_Lung_CT_Challenge/LUNGx-CT001/09-24-2006-7805-CT INFUSED CHEST-62081/4.000000-HIGH RES-69714/1-201.dcm', '/workspace/data/lung/SPIE_AAPM_Lung_CT_Challenge/LUNGx-CT001/09-24-2006-7805-CT INFUSED CHEST-62081/4.000000-HIGH RES-69714/1-068.dcm', '/workspace/data/lung/SPIE_AAPM_Lung_CT_Challenge/LUNGx-CT001/09-24-2006-7805-CT INFUSED CHEST-62081/4.000000-HIGH RES-69714/1-260.dcm', '/workspace/data/lung/SPIE_AAPM_Lung_CT_Challenge/LUNGx-CT001/09-24-2006-7805-CT INFUSED CHEST-62081/4.000000-HIGH RES-69714/1-228.dcm', '/workspace/data/lung/SPIE_AAPM_Lung_CT_Challenge/LUNGx-CT001/09-24-2006-7805-CT INFUSED CHEST-62081/4.000000-HIGH RES-69714/1-177.dcm', '/workspace/data/lung/SPIE_AAPM_Lung_CT_Challenge/LUNGx-CT001/09-24-2006-7805-CT INFUSED CHEST-62081/4.000000-HIGH RES-69714/1-221.dcm', '/workspace/data/lung/SPIE_AAPM_Lung_CT_Challenge/LUNGx-CT001/09-24-2006-7805-CT INFUSED CHEST-62081/4.000000-HIGH RES-69714/1-227.dcm', '/workspace/data/lung/SPIE_AAPM_Lung_CT_Challenge/LUNGx-CT001/09-24-2006-7805-CT INFUSED CHEST-62081/4.000000-HIGH RES-69714/1-218.dcm', '/workspace/data/lung/SPIE_AAPM_Lung_CT_Challenge/LUNGx-CT001/09-24-2006-7805-CT INFUSED CHEST-62081/4.000000-HIGH RES-69714/1-140.dcm', '/workspace/data/lung/SPIE_AAPM_Lung_CT_Challenge/LUNGx-CT001/09-24-2006-7805-CT INFUSED CHEST-62081/4.000000-HIGH RES-69714/1-165.dcm', '/workspace/data/lung/SPIE_AAPM_Lung_CT_Challenge/LUNGx-CT001/09-24-2006-7805-CT INFUSED CHEST-62081/4.000000-HIGH RES-69714/1-282.dcm', '/workspace/data/lung/SPIE_AAPM_Lung_CT_Challenge/LUNGx-CT001/09-24-2006-7805-CT INFUSED CHEST-62081/4.000000-HIGH RES-69714/1-235.dcm', '/workspace/data/lung/SPIE_AAPM_Lung_CT_Challenge/LUNGx-CT001/09-24-2006-7805-CT INFUSED CHEST-62081/4.000000-HIGH RES-69714/1-020.dcm', '/workspace/data/lung/SPIE_AAPM_Lung_CT_Challenge/LUNGx-CT001/09-24-2006-7805-CT INFUSED CHEST-62081/4.000000-HIGH RES-69714/1-312.dcm', '/workspace/data/lung/SPIE_AAPM_Lung_CT_Challenge/LUNGx-CT001/09-24-2006-7805-CT INFUSED CHEST-62081/4.000000-HIGH RES-69714/1-179.dcm', '/workspace/data/lung/SPIE_AAPM_Lung_CT_Challenge/LUNGx-CT001/09-24-2006-7805-CT INFUSED CHEST-62081/4.000000-HIGH RES-69714/1-261.dcm', '/workspace/data/lung/SPIE_AAPM_Lung_CT_Challenge/LUNGx-CT001/09-24-2006-7805-CT INFUSED CHEST-62081/4.000000-HIGH RES-69714/1-133.dcm', '/workspace/data/lung/SPIE_AAPM_Lung_CT_Challenge/LUNGx-CT001/09-24-2006-7805-CT INFUSED CHEST-62081/4.000000-HIGH RES-69714/1-298.dcm', '/workspace/data/lung/SPIE_AAPM_Lung_CT_Challenge/LUNGx-CT001/09-24-2006-7805-CT INFUSED CHEST-62081/4.000000-HIGH RES-69714/1-131.dcm', '/workspace/data/lung/SPIE_AAPM_Lung_CT_Challenge/LUNGx-CT001/09-24-2006-7805-CT INFUSED CHEST-62081/4.000000-HIGH RES-69714/1-034.dcm', '/workspace/data/lung/SPIE_AAPM_Lung_CT_Challenge/LUNGx-CT001/09-24-2006-7805-CT INFUSED CHEST-62081/4.000000-HIGH RES-69714/1-078.dcm', '/workspace/data/lung/SPIE_AAPM_Lung_CT_Challenge/LUNGx-CT001/09-24-2006-7805-CT INFUSED CHEST-62081/4.000000-HIGH RES-69714/1-100.dcm', '/workspace/data/lung/SPIE_AAPM_Lung_CT_Challenge/LUNGx-CT001/09-24-2006-7805-CT INFUSED CHEST-62081/4.000000-HIGH RES-69714/1-103.dcm', '/workspace/data/lung/SPIE_AAPM_Lung_CT_Challenge/LUNGx-CT001/09-24-2006-7805-CT INFUSED CHEST-62081/4.000000-HIGH RES-69714/1-309.dcm', '/workspace/data/lung/SPIE_AAPM_Lung_CT_Challenge/LUNGx-CT001/09-24-2006-7805-CT INFUSED CHEST-62081/4.000000-HIGH RES-69714/1-209.dcm', '/workspace/data/lung/SPIE_AAPM_Lung_CT_Challenge/LUNGx-CT001/09-24-2006-7805-CT INFUSED CHEST-62081/4.000000-HIGH RES-69714/1-284.dcm', '/workspace/data/lung/SPIE_AAPM_Lung_CT_Challenge/LUNGx-CT001/09-24-2006-7805-CT INFUSED CHEST-62081/4.000000-HIGH RES-69714/1-308.dcm', '/workspace/data/lung/SPIE_AAPM_Lung_CT_Challenge/LUNGx-CT001/09-24-2006-7805-CT INFUSED CHEST-62081/4.000000-HIGH RES-69714/1-057.dcm', '/workspace/data/lung/SPIE_AAPM_Lung_CT_Challenge/LUNGx-CT001/09-24-2006-7805-CT INFUSED CHEST-62081/4.000000-HIGH RES-69714/1-012.dcm', '/workspace/data/lung/SPIE_AAPM_Lung_CT_Challenge/LUNGx-CT001/09-24-2006-7805-CT INFUSED CHEST-62081/4.000000-HIGH RES-69714/1-109.dcm', '/workspace/data/lung/SPIE_AAPM_Lung_CT_Challenge/LUNGx-CT001/09-24-2006-7805-CT INFUSED CHEST-62081/4.000000-HIGH RES-69714/1-304.dcm', '/workspace/data/lung/SPIE_AAPM_Lung_CT_Challenge/LUNGx-CT001/09-24-2006-7805-CT INFUSED CHEST-62081/4.000000-HIGH RES-69714/1-254.dcm', '/workspace/data/lung/SPIE_AAPM_Lung_CT_Challenge/LUNGx-CT001/09-24-2006-7805-CT INFUSED CHEST-62081/4.000000-HIGH RES-69714/1-001.dcm', '/workspace/data/lung/SPIE_AAPM_Lung_CT_Challenge/LUNGx-CT001/09-24-2006-7805-CT INFUSED CHEST-62081/4.000000-HIGH RES-69714/1-158.dcm', '/workspace/data/lung/SPIE_AAPM_Lung_CT_Challenge/LUNGx-CT001/09-24-2006-7805-CT INFUSED CHEST-62081/4.000000-HIGH RES-69714/1-229.dcm', '/workspace/data/lung/SPIE_AAPM_Lung_CT_Challenge/LUNGx-CT001/09-24-2006-7805-CT INFUSED CHEST-62081/4.000000-HIGH RES-69714/1-031.dcm', '/workspace/data/lung/SPIE_AAPM_Lung_CT_Challenge/LUNGx-CT001/09-24-2006-7805-CT INFUSED CHEST-62081/4.000000-HIGH RES-69714/1-279.dcm', '/workspace/data/lung/SPIE_AAPM_Lung_CT_Challenge/LUNGx-CT001/09-24-2006-7805-CT INFUSED CHEST-62081/4.000000-HIGH RES-69714/1-219.dcm', '/workspace/data/lung/SPIE_AAPM_Lung_CT_Challenge/LUNGx-CT001/09-24-2006-7805-CT INFUSED CHEST-62081/4.000000-HIGH RES-69714/1-090.dcm', '/workspace/data/lung/SPIE_AAPM_Lung_CT_Challenge/LUNGx-CT001/09-24-2006-7805-CT INFUSED CHEST-62081/4.000000-HIGH RES-69714/1-134.dcm', '/workspace/data/lung/SPIE_AAPM_Lung_CT_Challenge/LUNGx-CT001/09-24-2006-7805-CT INFUSED CHEST-62081/4.000000-HIGH RES-69714/1-259.dcm', '/workspace/data/lung/SPIE_AAPM_Lung_CT_Challenge/LUNGx-CT001/09-24-2006-7805-CT INFUSED CHEST-62081/4.000000-HIGH RES-69714/1-030.dcm', '/workspace/data/lung/SPIE_AAPM_Lung_CT_Challenge/LUNGx-CT001/09-24-2006-7805-CT INFUSED CHEST-62081/4.000000-HIGH RES-69714/1-112.dcm', '/workspace/data/lung/SPIE_AAPM_Lung_CT_Challenge/LUNGx-CT001/09-24-2006-7805-CT INFUSED CHEST-62081/4.000000-HIGH RES-69714/1-274.dcm', '/workspace/data/lung/SPIE_AAPM_Lung_CT_Challenge/LUNGx-CT001/09-24-2006-7805-CT INFUSED CHEST-62081/4.000000-HIGH RES-69714/1-161.dcm', '/workspace/data/lung/SPIE_AAPM_Lung_CT_Challenge/LUNGx-CT001/09-24-2006-7805-CT INFUSED CHEST-62081/4.000000-HIGH RES-69714/1-021.dcm', '/workspace/data/lung/SPIE_AAPM_Lung_CT_Challenge/LUNGx-CT001/09-24-2006-7805-CT INFUSED CHEST-62081/4.000000-HIGH RES-69714/1-014.dcm', '/workspace/data/lung/SPIE_AAPM_Lung_CT_Challenge/LUNGx-CT001/09-24-2006-7805-CT INFUSED CHEST-62081/4.000000-HIGH RES-69714/1-151.dcm', '/workspace/data/lung/SPIE_AAPM_Lung_CT_Challenge/LUNGx-CT001/09-24-2006-7805-CT INFUSED CHEST-62081/4.000000-HIGH RES-69714/1-160.dcm', '/workspace/data/lung/SPIE_AAPM_Lung_CT_Challenge/LUNGx-CT001/09-24-2006-7805-CT INFUSED CHEST-62081/4.000000-HIGH RES-69714/1-075.dcm', '/workspace/data/lung/SPIE_AAPM_Lung_CT_Challenge/LUNGx-CT001/09-24-2006-7805-CT INFUSED CHEST-62081/4.000000-HIGH RES-69714/1-237.dcm', '/workspace/data/lung/SPIE_AAPM_Lung_CT_Challenge/LUNGx-CT001/09-24-2006-7805-CT INFUSED CHEST-62081/4.000000-HIGH RES-69714/1-268.dcm', '/workspace/data/lung/SPIE_AAPM_Lung_CT_Challenge/LUNGx-CT001/09-24-2006-7805-CT INFUSED CHEST-62081/4.000000-HIGH RES-69714/1-193.dcm', '/workspace/data/lung/SPIE_AAPM_Lung_CT_Challenge/LUNGx-CT001/09-24-2006-7805-CT INFUSED CHEST-62081/4.000000-HIGH RES-69714/1-166.dcm', '/workspace/data/lung/SPIE_AAPM_Lung_CT_Challenge/LUNGx-CT001/09-24-2006-7805-CT INFUSED CHEST-62081/4.000000-HIGH RES-69714/1-009.dcm', '/workspace/data/lung/SPIE_AAPM_Lung_CT_Challenge/LUNGx-CT001/09-24-2006-7805-CT INFUSED CHEST-62081/4.000000-HIGH RES-69714/1-062.dcm', '/workspace/data/lung/SPIE_AAPM_Lung_CT_Challenge/LUNGx-CT001/09-24-2006-7805-CT INFUSED CHEST-62081/4.000000-HIGH RES-69714/1-214.dcm', '/workspace/data/lung/SPIE_AAPM_Lung_CT_Challenge/LUNGx-CT001/09-24-2006-7805-CT INFUSED CHEST-62081/4.000000-HIGH RES-69714/1-124.dcm', '/workspace/data/lung/SPIE_AAPM_Lung_CT_Challenge/LUNGx-CT001/09-24-2006-7805-CT INFUSED CHEST-62081/4.000000-HIGH RES-69714/1-119.dcm', '/workspace/data/lung/SPIE_AAPM_Lung_CT_Challenge/LUNGx-CT001/09-24-2006-7805-CT INFUSED CHEST-62081/4.000000-HIGH RES-69714/1-230.dcm', '/workspace/data/lung/SPIE_AAPM_Lung_CT_Challenge/LUNGx-CT001/09-24-2006-7805-CT INFUSED CHEST-62081/4.000000-HIGH RES-69714/1-142.dcm', '/workspace/data/lung/SPIE_AAPM_Lung_CT_Challenge/LUNGx-CT001/09-24-2006-7805-CT INFUSED CHEST-62081/4.000000-HIGH RES-69714/1-258.dcm', '/workspace/data/lung/SPIE_AAPM_Lung_CT_Challenge/LUNGx-CT001/09-24-2006-7805-CT INFUSED CHEST-62081/4.000000-HIGH RES-69714/1-055.dcm', '/workspace/data/lung/SPIE_AAPM_Lung_CT_Challenge/LUNGx-CT001/09-24-2006-7805-CT INFUSED CHEST-62081/4.000000-HIGH RES-69714/1-226.dcm', '/workspace/data/lung/SPIE_AAPM_Lung_CT_Challenge/LUNGx-CT001/09-24-2006-7805-CT INFUSED CHEST-62081/4.000000-HIGH RES-69714/1-176.dcm', '/workspace/data/lung/SPIE_AAPM_Lung_CT_Challenge/LUNGx-CT001/09-24-2006-7805-CT INFUSED CHEST-62081/4.000000-HIGH RES-69714/1-207.dcm', '/workspace/data/lung/SPIE_AAPM_Lung_CT_Challenge/LUNGx-CT001/09-24-2006-7805-CT INFUSED CHEST-62081/4.000000-HIGH RES-69714/1-095.dcm', '/workspace/data/lung/SPIE_AAPM_Lung_CT_Challenge/LUNGx-CT001/09-24-2006-7805-CT INFUSED CHEST-62081/4.000000-HIGH RES-69714/1-106.dcm', '/workspace/data/lung/SPIE_AAPM_Lung_CT_Challenge/LUNGx-CT001/09-24-2006-7805-CT INFUSED CHEST-62081/4.000000-HIGH RES-69714/1-182.dcm', '/workspace/data/lung/SPIE_AAPM_Lung_CT_Challenge/LUNGx-CT001/09-24-2006-7805-CT INFUSED CHEST-62081/4.000000-HIGH RES-69714/1-223.dcm', '/workspace/data/lung/SPIE_AAPM_Lung_CT_Challenge/LUNGx-CT001/09-24-2006-7805-CT INFUSED CHEST-62081/4.000000-HIGH RES-69714/1-137.dcm', '/workspace/data/lung/SPIE_AAPM_Lung_CT_Challenge/LUNGx-CT001/09-24-2006-7805-CT INFUSED CHEST-62081/4.000000-HIGH RES-69714/1-146.dcm', '/workspace/data/lung/SPIE_AAPM_Lung_CT_Challenge/LUNGx-CT001/09-24-2006-7805-CT INFUSED CHEST-62081/4.000000-HIGH RES-69714/1-267.dcm', '/workspace/data/lung/SPIE_AAPM_Lung_CT_Challenge/LUNGx-CT001/09-24-2006-7805-CT INFUSED CHEST-62081/4.000000-HIGH RES-69714/1-295.dcm', '/workspace/data/lung/SPIE_AAPM_Lung_CT_Challenge/LUNGx-CT001/09-24-2006-7805-CT INFUSED CHEST-62081/4.000000-HIGH RES-69714/1-143.dcm', '/workspace/data/lung/SPIE_AAPM_Lung_CT_Challenge/LUNGx-CT001/09-24-2006-7805-CT INFUSED CHEST-62081/4.000000-HIGH RES-69714/1-063.dcm', '/workspace/data/lung/SPIE_AAPM_Lung_CT_Challenge/LUNGx-CT001/09-24-2006-7805-CT INFUSED CHEST-62081/4.000000-HIGH RES-69714/1-050.dcm', '/workspace/data/lung/SPIE_AAPM_Lung_CT_Challenge/LUNGx-CT001/09-24-2006-7805-CT INFUSED CHEST-62081/4.000000-HIGH RES-69714/1-104.dcm', '/workspace/data/lung/SPIE_AAPM_Lung_CT_Challenge/LUNGx-CT001/09-24-2006-7805-CT INFUSED CHEST-62081/4.000000-HIGH RES-69714/1-077.dcm', '/workspace/data/lung/SPIE_AAPM_Lung_CT_Challenge/LUNGx-CT001/09-24-2006-7805-CT INFUSED CHEST-62081/4.000000-HIGH RES-69714/1-208.dcm', '/workspace/data/lung/SPIE_AAPM_Lung_CT_Challenge/LUNGx-CT001/09-24-2006-7805-CT INFUSED CHEST-62081/4.000000-HIGH RES-69714/1-032.dcm', '/workspace/data/lung/SPIE_AAPM_Lung_CT_Challenge/LUNGx-CT001/09-24-2006-7805-CT INFUSED CHEST-62081/4.000000-HIGH RES-69714/1-188.dcm', '/workspace/data/lung/SPIE_AAPM_Lung_CT_Challenge/LUNGx-CT001/09-24-2006-7805-CT INFUSED CHEST-62081/4.000000-HIGH RES-69714/1-027.dcm', '/workspace/data/lung/SPIE_AAPM_Lung_CT_Challenge/LUNGx-CT001/09-24-2006-7805-CT INFUSED CHEST-62081/4.000000-HIGH RES-69714/1-006.dcm', '/workspace/data/lung/SPIE_AAPM_Lung_CT_Challenge/LUNGx-CT001/09-24-2006-7805-CT INFUSED CHEST-62081/4.000000-HIGH RES-69714/1-297.dcm', '/workspace/data/lung/SPIE_AAPM_Lung_CT_Challenge/LUNGx-CT001/09-24-2006-7805-CT INFUSED CHEST-62081/4.000000-HIGH RES-69714/1-004.dcm', '/workspace/data/lung/SPIE_AAPM_Lung_CT_Challenge/LUNGx-CT001/09-24-2006-7805-CT INFUSED CHEST-62081/4.000000-HIGH RES-69714/1-082.dcm', '/workspace/data/lung/SPIE_AAPM_Lung_CT_Challenge/LUNGx-CT001/09-24-2006-7805-CT INFUSED CHEST-62081/4.000000-HIGH RES-69714/1-232.dcm', '/workspace/data/lung/SPIE_AAPM_Lung_CT_Challenge/LUNGx-CT001/09-24-2006-7805-CT INFUSED CHEST-62081/4.000000-HIGH RES-69714/1-271.dcm', '/workspace/data/lung/SPIE_AAPM_Lung_CT_Challenge/LUNGx-CT001/09-24-2006-7805-CT INFUSED CHEST-62081/4.000000-HIGH RES-69714/1-018.dcm', '/workspace/data/lung/SPIE_AAPM_Lung_CT_Challenge/LUNGx-CT001/09-24-2006-7805-CT INFUSED CHEST-62081/4.000000-HIGH RES-69714/1-212.dcm', '/workspace/data/lung/SPIE_AAPM_Lung_CT_Challenge/LUNGx-CT001/09-24-2006-7805-CT INFUSED CHEST-62081/4.000000-HIGH RES-69714/1-168.dcm', '/workspace/data/lung/SPIE_AAPM_Lung_CT_Challenge/LUNGx-CT001/09-24-2006-7805-CT INFUSED CHEST-62081/4.000000-HIGH RES-69714/1-110.dcm', '/workspace/data/lung/SPIE_AAPM_Lung_CT_Challenge/LUNGx-CT001/09-24-2006-7805-CT INFUSED CHEST-62081/4.000000-HIGH RES-69714/1-240.dcm', '/workspace/data/lung/SPIE_AAPM_Lung_CT_Challenge/LUNGx-CT001/09-24-2006-7805-CT INFUSED CHEST-62081/4.000000-HIGH RES-69714/1-241.dcm', '/workspace/data/lung/SPIE_AAPM_Lung_CT_Challenge/LUNGx-CT001/09-24-2006-7805-CT INFUSED CHEST-62081/4.000000-HIGH RES-69714/1-007.dcm', '/workspace/data/lung/SPIE_AAPM_Lung_CT_Challenge/LUNGx-CT001/09-24-2006-7805-CT INFUSED CHEST-62081/4.000000-HIGH RES-69714/1-187.dcm', '/workspace/data/lung/SPIE_AAPM_Lung_CT_Challenge/LUNGx-CT001/09-24-2006-7805-CT INFUSED CHEST-62081/4.000000-HIGH RES-69714/1-072.dcm', '/workspace/data/lung/SPIE_AAPM_Lung_CT_Challenge/LUNGx-CT001/09-24-2006-7805-CT INFUSED CHEST-62081/4.000000-HIGH RES-69714/1-265.dcm', '/workspace/data/lung/SPIE_AAPM_Lung_CT_Challenge/LUNGx-CT001/09-24-2006-7805-CT INFUSED CHEST-62081/4.000000-HIGH RES-69714/1-251.dcm', '/workspace/data/lung/SPIE_AAPM_Lung_CT_Challenge/LUNGx-CT001/09-24-2006-7805-CT INFUSED CHEST-62081/4.000000-HIGH RES-69714/1-263.dcm', '/workspace/data/lung/SPIE_AAPM_Lung_CT_Challenge/LUNGx-CT001/09-24-2006-7805-CT INFUSED CHEST-62081/4.000000-HIGH RES-69714/1-181.dcm', '/workspace/data/lung/SPIE_AAPM_Lung_CT_Challenge/LUNGx-CT001/09-24-2006-7805-CT INFUSED CHEST-62081/4.000000-HIGH RES-69714/1-195.dcm', '/workspace/data/lung/SPIE_AAPM_Lung_CT_Challenge/LUNGx-CT001/09-24-2006-7805-CT INFUSED CHEST-62081/4.000000-HIGH RES-69714/1-056.dcm', '/workspace/data/lung/SPIE_AAPM_Lung_CT_Challenge/LUNGx-CT001/09-24-2006-7805-CT INFUSED CHEST-62081/4.000000-HIGH RES-69714/1-065.dcm', '/workspace/data/lung/SPIE_AAPM_Lung_CT_Challenge/LUNGx-CT001/09-24-2006-7805-CT INFUSED CHEST-62081/4.000000-HIGH RES-69714/1-206.dcm', '/workspace/data/lung/SPIE_AAPM_Lung_CT_Challenge/LUNGx-CT001/09-24-2006-7805-CT INFUSED CHEST-62081/4.000000-HIGH RES-69714/1-292.dcm', '/workspace/data/lung/SPIE_AAPM_Lung_CT_Challenge/LUNGx-CT001/09-24-2006-7805-CT INFUSED CHEST-62081/4.000000-HIGH RES-69714/1-147.dcm', '/workspace/data/lung/SPIE_AAPM_Lung_CT_Challenge/LUNGx-CT001/09-24-2006-7805-CT INFUSED CHEST-62081/4.000000-HIGH RES-69714/1-236.dcm', '/workspace/data/lung/SPIE_AAPM_Lung_CT_Challenge/LUNGx-CT001/09-24-2006-7805-CT INFUSED CHEST-62081/4.000000-HIGH RES-69714/1-311.dcm', '/workspace/data/lung/SPIE_AAPM_Lung_CT_Challenge/LUNGx-CT001/09-24-2006-7805-CT INFUSED CHEST-62081/4.000000-HIGH RES-69714/1-172.dcm', '/workspace/data/lung/SPIE_AAPM_Lung_CT_Challenge/LUNGx-CT001/09-24-2006-7805-CT INFUSED CHEST-62081/4.000000-HIGH RES-69714/1-163.dcm', '/workspace/data/lung/SPIE_AAPM_Lung_CT_Challenge/LUNGx-CT001/09-24-2006-7805-CT INFUSED CHEST-62081/4.000000-HIGH RES-69714/1-029.dcm', '/workspace/data/lung/SPIE_AAPM_Lung_CT_Challenge/LUNGx-CT001/09-24-2006-7805-CT INFUSED CHEST-62081/4.000000-HIGH RES-69714/1-002.dcm', '/workspace/data/lung/SPIE_AAPM_Lung_CT_Challenge/LUNGx-CT001/09-24-2006-7805-CT INFUSED CHEST-62081/4.000000-HIGH RES-69714/1-156.dcm', '/workspace/data/lung/SPIE_AAPM_Lung_CT_Challenge/LUNGx-CT001/09-24-2006-7805-CT INFUSED CHEST-62081/4.000000-HIGH RES-69714/1-101.dcm', '/workspace/data/lung/SPIE_AAPM_Lung_CT_Challenge/LUNGx-CT001/09-24-2006-7805-CT INFUSED CHEST-62081/4.000000-HIGH RES-69714/1-171.dcm', '/workspace/data/lung/SPIE_AAPM_Lung_CT_Challenge/LUNGx-CT001/09-24-2006-7805-CT INFUSED CHEST-62081/4.000000-HIGH RES-69714/1-150.dcm', '/workspace/data/lung/SPIE_AAPM_Lung_CT_Challenge/LUNGx-CT001/09-24-2006-7805-CT INFUSED CHEST-62081/4.000000-HIGH RES-69714/1-069.dcm', '/workspace/data/lung/SPIE_AAPM_Lung_CT_Challenge/LUNGx-CT001/09-24-2006-7805-CT INFUSED CHEST-62081/4.000000-HIGH RES-69714/1-064.dcm', '/workspace/data/lung/SPIE_AAPM_Lung_CT_Challenge/LUNGx-CT001/09-24-2006-7805-CT INFUSED CHEST-62081/4.000000-HIGH RES-69714/1-102.dcm', '/workspace/data/lung/SPIE_AAPM_Lung_CT_Challenge/LUNGx-CT001/09-24-2006-7805-CT INFUSED CHEST-62081/4.000000-HIGH RES-69714/1-255.dcm', '/workspace/data/lung/SPIE_AAPM_Lung_CT_Challenge/LUNGx-CT001/09-24-2006-7805-CT INFUSED CHEST-62081/4.000000-HIGH RES-69714/1-220.dcm', '/workspace/data/lung/SPIE_AAPM_Lung_CT_Challenge/LUNGx-CT001/09-24-2006-7805-CT INFUSED CHEST-62081/4.000000-HIGH RES-69714/1-099.dcm', '/workspace/data/lung/SPIE_AAPM_Lung_CT_Challenge/LUNGx-CT001/09-24-2006-7805-CT INFUSED CHEST-62081/4.000000-HIGH RES-69714/1-290.dcm', '/workspace/data/lung/SPIE_AAPM_Lung_CT_Challenge/LUNGx-CT001/09-24-2006-7805-CT INFUSED CHEST-62081/4.000000-HIGH RES-69714/1-125.dcm', '/workspace/data/lung/SPIE_AAPM_Lung_CT_Challenge/LUNGx-CT001/09-24-2006-7805-CT INFUSED CHEST-62081/4.000000-HIGH RES-69714/1-190.dcm', '/workspace/data/lung/SPIE_AAPM_Lung_CT_Challenge/LUNGx-CT001/09-24-2006-7805-CT INFUSED CHEST-62081/4.000000-HIGH RES-69714/1-129.dcm', '/workspace/data/lung/SPIE_AAPM_Lung_CT_Challenge/LUNGx-CT001/09-24-2006-7805-CT INFUSED CHEST-62081/4.000000-HIGH RES-69714/1-116.dcm', '/workspace/data/lung/SPIE_AAPM_Lung_CT_Challenge/LUNGx-CT001/09-24-2006-7805-CT INFUSED CHEST-62081/4.000000-HIGH RES-69714/1-269.dcm', '/workspace/data/lung/SPIE_AAPM_Lung_CT_Challenge/LUNGx-CT001/09-24-2006-7805-CT INFUSED CHEST-62081/4.000000-HIGH RES-69714/1-040.dcm', '/workspace/data/lung/SPIE_AAPM_Lung_CT_Challenge/LUNGx-CT001/09-24-2006-7805-CT INFUSED CHEST-62081/4.000000-HIGH RES-69714/1-293.dcm', '/workspace/data/lung/SPIE_AAPM_Lung_CT_Challenge/LUNGx-CT001/09-24-2006-7805-CT INFUSED CHEST-62081/4.000000-HIGH RES-69714/1-197.dcm', '/workspace/data/lung/SPIE_AAPM_Lung_CT_Challenge/LUNGx-CT001/09-24-2006-7805-CT INFUSED CHEST-62081/4.000000-HIGH RES-69714/1-246.dcm', '/workspace/data/lung/SPIE_AAPM_Lung_CT_Challenge/LUNGx-CT001/09-24-2006-7805-CT INFUSED CHEST-62081/4.000000-HIGH RES-69714/1-149.dcm', '/workspace/data/lung/SPIE_AAPM_Lung_CT_Challenge/LUNGx-CT001/09-24-2006-7805-CT INFUSED CHEST-62081/4.000000-HIGH RES-69714/1-011.dcm', '/workspace/data/lung/SPIE_AAPM_Lung_CT_Challenge/LUNGx-CT001/09-24-2006-7805-CT INFUSED CHEST-62081/4.000000-HIGH RES-69714/1-170.dcm', '/workspace/data/lung/SPIE_AAPM_Lung_CT_Challenge/LUNGx-CT001/09-24-2006-7805-CT INFUSED CHEST-62081/4.000000-HIGH RES-69714/1-174.dcm', '/workspace/data/lung/SPIE_AAPM_Lung_CT_Challenge/LUNGx-CT001/09-24-2006-7805-CT INFUSED CHEST-62081/4.000000-HIGH RES-69714/1-185.dcm', '/workspace/data/lung/SPIE_AAPM_Lung_CT_Challenge/LUNGx-CT001/09-24-2006-7805-CT INFUSED CHEST-62081/4.000000-HIGH RES-69714/1-115.dcm', '/workspace/data/lung/SPIE_AAPM_Lung_CT_Challenge/LUNGx-CT001/09-24-2006-7805-CT INFUSED CHEST-62081/4.000000-HIGH RES-69714/1-257.dcm', '/workspace/data/lung/SPIE_AAPM_Lung_CT_Challenge/LUNGx-CT001/09-24-2006-7805-CT INFUSED CHEST-62081/4.000000-HIGH RES-69714/1-094.dcm', '/workspace/data/lung/SPIE_AAPM_Lung_CT_Challenge/LUNGx-CT001/09-24-2006-7805-CT INFUSED CHEST-62081/4.000000-HIGH RES-69714/1-233.dcm', '/workspace/data/lung/SPIE_AAPM_Lung_CT_Challenge/LUNGx-CT001/09-24-2006-7805-CT INFUSED CHEST-62081/4.000000-HIGH RES-69714/1-039.dcm', '/workspace/data/lung/SPIE_AAPM_Lung_CT_Challenge/LUNGx-CT001/09-24-2006-7805-CT INFUSED CHEST-62081/4.000000-HIGH RES-69714/1-144.dcm']\n"
     ]
    }
   ],
   "source": [
    "model = Sybil(\"sybil_ensemble\")\n",
    "dicom_dir = '/workspace/data/lung/SPIE_AAPM_Lung_CT_Challenge/LUNGx-CT001/09-24-2006-7805-CT INFUSED CHEST-62081/4.000000-HIGH RES-69714'\n",
    "dicoms = [os.path.join(dicom_dir,i) for i in os.listdir(dicom_dir)]\n",
    "print(dicoms)\n",
    "serie = Serie(dicoms)\n",
    "scores = model.predict ([serie], threads = 10)\n",
    "risk_scores = scores[0][0]"
   ]
  },
  {
   "cell_type": "code",
   "execution_count": 27,
   "id": "f7c5aac6",
   "metadata": {},
   "outputs": [
    {
     "data": {
      "text/plain": [
       "False"
      ]
     },
     "execution_count": 27,
     "metadata": {},
     "output_type": "execute_result"
    }
   ],
   "source": [
    "dicoms1 == dicoms"
   ]
  },
  {
   "cell_type": "code",
   "execution_count": 22,
   "id": "4d6b5e56",
   "metadata": {},
   "outputs": [
    {
     "data": {
      "text/plain": [
       "Prediction(scores=[[0.16219448545852416, 0.2660521773838938, 0.2578104393170584, 0.294426092782818, 0.3267814189024213, 0.3829717786744629]], attentions=None)"
      ]
     },
     "execution_count": 22,
     "metadata": {},
     "output_type": "execute_result"
    }
   ],
   "source": [
    "scores"
   ]
  },
  {
   "cell_type": "code",
   "execution_count": 16,
   "id": "6b42ab57",
   "metadata": {},
   "outputs": [
    {
     "name": "stdout",
     "output_type": "stream",
     "text": [
      "None\n"
     ]
    }
   ],
   "source": []
  },
  {
   "cell_type": "code",
   "execution_count": null,
   "id": "efdb07b1",
   "metadata": {},
   "outputs": [],
   "source": []
  }
 ],
 "metadata": {
  "kernelspec": {
   "display_name": "Python 3 (ipykernel)",
   "language": "python",
   "name": "python3"
  },
  "language_info": {
   "codemirror_mode": {
    "name": "ipython",
    "version": 3
   },
   "file_extension": ".py",
   "mimetype": "text/x-python",
   "name": "python",
   "nbconvert_exporter": "python",
   "pygments_lexer": "ipython3",
   "version": "3.10.6"
  }
 },
 "nbformat": 4,
 "nbformat_minor": 5
}
