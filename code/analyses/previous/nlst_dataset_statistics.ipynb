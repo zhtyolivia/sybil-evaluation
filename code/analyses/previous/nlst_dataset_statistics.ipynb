{
 "cells": [
  {
   "cell_type": "code",
   "execution_count": 1,
   "id": "de05d385",
   "metadata": {},
   "outputs": [],
   "source": [
    "import numpy as np\n",
    "import pandas as pd\n",
    "from sklearn.metrics import roc_auc_score, roc_curve, confusion_matrix\n",
    "from sklearn.utils import resample\n",
    "import matplotlib.pyplot as plt\n",
    "import seaborn as sns\n",
    "import sys\n",
    "import os\n",
    "import torch \n",
    "from argparse import Namespace\n",
    "from tqdm import tqdm"
   ]
  },
  {
   "cell_type": "code",
   "execution_count": 2,
   "id": "38584878",
   "metadata": {},
   "outputs": [],
   "source": [
    "# Load data\n",
    "df = pd.read_csv('/workspace/home/tengyuezhang/sybil_cect/results/all_nlst_with_risk_scores.csv')"
   ]
  },
  {
   "cell_type": "code",
   "execution_count": 3,
   "id": "d153b616",
   "metadata": {},
   "outputs": [
    {
     "data": {
      "text/plain": [
       "Index(['pid', 'event', 'years_to_event', 'years_from_scan_to_diagnosis',\n",
       "       'years_from_scan_to_last_followup', 'Year', 'timepoint',\n",
       "       'AccessionNumber', 'Directory', 'pred_risk_year_0', 'pred_risk_year_1',\n",
       "       'pred_risk_year_2', 'pred_risk_year_3', 'pred_risk_year_4',\n",
       "       'pred_risk_year_5'],\n",
       "      dtype='object')"
      ]
     },
     "execution_count": 3,
     "metadata": {},
     "output_type": "execute_result"
    }
   ],
   "source": [
    "df.columns"
   ]
  },
  {
   "cell_type": "code",
   "execution_count": 6,
   "id": "62cad937",
   "metadata": {},
   "outputs": [
    {
     "name": "stdout",
     "output_type": "stream",
     "text": [
      "Total number of samples: 2328\n"
     ]
    }
   ],
   "source": [
    "total_samples = len(df)\n",
    "print(f\"Total number of samples: {total_samples}\")"
   ]
  },
  {
   "cell_type": "code",
   "execution_count": 12,
   "id": "f90dbed6",
   "metadata": {},
   "outputs": [
    {
     "name": "stdout",
     "output_type": "stream",
     "text": [
      "Number of lung cancer diagnosis within 6 years: 154 (6.62%)\n"
     ]
    }
   ],
   "source": [
    "num_events = df['event'].sum()\n",
    "percentage_events = (num_events / total_samples) * 100 \n",
    "\n",
    "num_no_events = total_samples - num_events \n",
    "percentage_no_events = (num_no_events / total_samples) * 100 \n",
    "\n",
    "print(f\"Number of lung cancer diagnosis within 6 years: {num_events} ({percentage_events:.2f}%)\")"
   ]
  },
  {
   "cell_type": "code",
   "execution_count": 14,
   "id": "9eb14ee1",
   "metadata": {},
   "outputs": [
    {
     "name": "stdout",
     "output_type": "stream",
     "text": [
      "Median time to diagnosis for non-censored: 0.00 years\n",
      "Median time to followup for censored: 4.00 years\n"
     ]
    }
   ],
   "source": [
    "# Calculate the median time to event for event=1 (non-censored)\n",
    "median_time_to_event_1 = df[df['event'] == 1]['years_to_event'].median()\n",
    "\n",
    "# Calculate the median time to event for event=0 (censored)\n",
    "median_time_to_event_0 = df[df['event'] == 0]['years_to_event'].median()\n",
    "\n",
    "print(f\"Median time to diagnosis for non-censored: {median_time_to_event_1:.2f} years\")\n",
    "print(f\"Median time to followup for censored: {median_time_to_event_0:.2f} years\")"
   ]
  },
  {
   "cell_type": "code",
   "execution_count": null,
   "id": "4ad04b5a",
   "metadata": {},
   "outputs": [],
   "source": []
  }
 ],
 "metadata": {
  "kernelspec": {
   "display_name": "Python 3 (ipykernel)",
   "language": "python",
   "name": "python3"
  },
  "language_info": {
   "codemirror_mode": {
    "name": "ipython",
    "version": 3
   },
   "file_extension": ".py",
   "mimetype": "text/x-python",
   "name": "python",
   "nbconvert_exporter": "python",
   "pygments_lexer": "ipython3",
   "version": "3.10.6"
  }
 },
 "nbformat": 4,
 "nbformat_minor": 5
}
